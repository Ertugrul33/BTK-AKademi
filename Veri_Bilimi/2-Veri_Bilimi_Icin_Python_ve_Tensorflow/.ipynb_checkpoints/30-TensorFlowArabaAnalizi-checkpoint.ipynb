{
 "cells": [
  {
   "cell_type": "markdown",
   "metadata": {},
   "source": [
    "## 8.14_Araba Fiyatları Analizi"
   ]
  },
  {
   "cell_type": "code",
   "execution_count": 3,
   "metadata": {},
   "outputs": [],
   "source": [
    "import pandas as pd\n",
    "import numpy as np\n",
    "import matplotlib.pyplot as plt\n",
    "import seaborn as sbn"
   ]
  },
  {
   "cell_type": "code",
   "execution_count": 4,
   "metadata": {},
   "outputs": [],
   "source": [
    "dataFrame = pd.read_excel(\"30-TensorFlowArabaAnalizi-Mercedes.xlsx\")"
   ]
  },
  {
   "cell_type": "code",
   "execution_count": 5,
   "metadata": {},
   "outputs": [
    {
     "data": {
      "text/html": [
       "<div>\n",
       "<style scoped>\n",
       "    .dataframe tbody tr th:only-of-type {\n",
       "        vertical-align: middle;\n",
       "    }\n",
       "\n",
       "    .dataframe tbody tr th {\n",
       "        vertical-align: top;\n",
       "    }\n",
       "\n",
       "    .dataframe thead th {\n",
       "        text-align: right;\n",
       "    }\n",
       "</style>\n",
       "<table border=\"1\" class=\"dataframe\">\n",
       "  <thead>\n",
       "    <tr style=\"text-align: right;\">\n",
       "      <th></th>\n",
       "      <th>year</th>\n",
       "      <th>price</th>\n",
       "      <th>transmission</th>\n",
       "      <th>mileage</th>\n",
       "      <th>tax</th>\n",
       "      <th>mpg</th>\n",
       "      <th>engineSize</th>\n",
       "    </tr>\n",
       "  </thead>\n",
       "  <tbody>\n",
       "    <tr>\n",
       "      <th>0</th>\n",
       "      <td>2005</td>\n",
       "      <td>5200</td>\n",
       "      <td>Automatic</td>\n",
       "      <td>63000</td>\n",
       "      <td>325</td>\n",
       "      <td>32.1</td>\n",
       "      <td>1.8</td>\n",
       "    </tr>\n",
       "    <tr>\n",
       "      <th>1</th>\n",
       "      <td>2017</td>\n",
       "      <td>34948</td>\n",
       "      <td>Automatic</td>\n",
       "      <td>27000</td>\n",
       "      <td>20</td>\n",
       "      <td>61.4</td>\n",
       "      <td>2.1</td>\n",
       "    </tr>\n",
       "    <tr>\n",
       "      <th>2</th>\n",
       "      <td>2016</td>\n",
       "      <td>49948</td>\n",
       "      <td>Automatic</td>\n",
       "      <td>6200</td>\n",
       "      <td>555</td>\n",
       "      <td>28.0</td>\n",
       "      <td>5.5</td>\n",
       "    </tr>\n",
       "    <tr>\n",
       "      <th>3</th>\n",
       "      <td>2016</td>\n",
       "      <td>61948</td>\n",
       "      <td>Automatic</td>\n",
       "      <td>16000</td>\n",
       "      <td>325</td>\n",
       "      <td>30.4</td>\n",
       "      <td>4.0</td>\n",
       "    </tr>\n",
       "    <tr>\n",
       "      <th>4</th>\n",
       "      <td>2016</td>\n",
       "      <td>73948</td>\n",
       "      <td>Automatic</td>\n",
       "      <td>4000</td>\n",
       "      <td>325</td>\n",
       "      <td>30.1</td>\n",
       "      <td>4.0</td>\n",
       "    </tr>\n",
       "  </tbody>\n",
       "</table>\n",
       "</div>"
      ],
      "text/plain": [
       "   year  price transmission  mileage  tax   mpg  engineSize\n",
       "0  2005   5200    Automatic    63000  325  32.1         1.8\n",
       "1  2017  34948    Automatic    27000   20  61.4         2.1\n",
       "2  2016  49948    Automatic     6200  555  28.0         5.5\n",
       "3  2016  61948    Automatic    16000  325  30.4         4.0\n",
       "4  2016  73948    Automatic     4000  325  30.1         4.0"
      ]
     },
     "execution_count": 5,
     "metadata": {},
     "output_type": "execute_result"
    }
   ],
   "source": [
    "dataFrame.head()"
   ]
  },
  {
   "cell_type": "code",
   "execution_count": 6,
   "metadata": {},
   "outputs": [],
   "source": [
    "#tax: Vergi\n",
    "#mileage: Ne kadar mil kullandığının bilgisi.\n",
    "#mpg(mile per gallon): 1 mil'de kaç yaktığını gösteren bilgi."
   ]
  },
  {
   "cell_type": "markdown",
   "metadata": {},
   "source": [
    "## 8.15_Veriyi Anlamak"
   ]
  },
  {
   "cell_type": "code",
   "execution_count": 7,
   "metadata": {
    "scrolled": true
   },
   "outputs": [
    {
     "data": {
      "text/html": [
       "<div>\n",
       "<style scoped>\n",
       "    .dataframe tbody tr th:only-of-type {\n",
       "        vertical-align: middle;\n",
       "    }\n",
       "\n",
       "    .dataframe tbody tr th {\n",
       "        vertical-align: top;\n",
       "    }\n",
       "\n",
       "    .dataframe thead th {\n",
       "        text-align: right;\n",
       "    }\n",
       "</style>\n",
       "<table border=\"1\" class=\"dataframe\">\n",
       "  <thead>\n",
       "    <tr style=\"text-align: right;\">\n",
       "      <th></th>\n",
       "      <th>year</th>\n",
       "      <th>price</th>\n",
       "      <th>mileage</th>\n",
       "      <th>tax</th>\n",
       "      <th>mpg</th>\n",
       "      <th>engineSize</th>\n",
       "    </tr>\n",
       "  </thead>\n",
       "  <tbody>\n",
       "    <tr>\n",
       "      <th>count</th>\n",
       "      <td>13119.000000</td>\n",
       "      <td>13119.000000</td>\n",
       "      <td>13119.000000</td>\n",
       "      <td>13119.000000</td>\n",
       "      <td>13119.000000</td>\n",
       "      <td>13119.000000</td>\n",
       "    </tr>\n",
       "    <tr>\n",
       "      <th>mean</th>\n",
       "      <td>2017.296288</td>\n",
       "      <td>24698.596920</td>\n",
       "      <td>21949.559037</td>\n",
       "      <td>129.972178</td>\n",
       "      <td>55.155843</td>\n",
       "      <td>2.071530</td>\n",
       "    </tr>\n",
       "    <tr>\n",
       "      <th>std</th>\n",
       "      <td>2.224709</td>\n",
       "      <td>11842.675542</td>\n",
       "      <td>21176.512267</td>\n",
       "      <td>65.260286</td>\n",
       "      <td>15.220082</td>\n",
       "      <td>0.572426</td>\n",
       "    </tr>\n",
       "    <tr>\n",
       "      <th>min</th>\n",
       "      <td>1970.000000</td>\n",
       "      <td>650.000000</td>\n",
       "      <td>1.000000</td>\n",
       "      <td>0.000000</td>\n",
       "      <td>1.100000</td>\n",
       "      <td>0.000000</td>\n",
       "    </tr>\n",
       "    <tr>\n",
       "      <th>25%</th>\n",
       "      <td>2016.000000</td>\n",
       "      <td>17450.000000</td>\n",
       "      <td>6097.500000</td>\n",
       "      <td>125.000000</td>\n",
       "      <td>45.600000</td>\n",
       "      <td>1.800000</td>\n",
       "    </tr>\n",
       "    <tr>\n",
       "      <th>50%</th>\n",
       "      <td>2018.000000</td>\n",
       "      <td>22480.000000</td>\n",
       "      <td>15189.000000</td>\n",
       "      <td>145.000000</td>\n",
       "      <td>56.500000</td>\n",
       "      <td>2.000000</td>\n",
       "    </tr>\n",
       "    <tr>\n",
       "      <th>75%</th>\n",
       "      <td>2019.000000</td>\n",
       "      <td>28980.000000</td>\n",
       "      <td>31779.500000</td>\n",
       "      <td>145.000000</td>\n",
       "      <td>64.200000</td>\n",
       "      <td>2.100000</td>\n",
       "    </tr>\n",
       "    <tr>\n",
       "      <th>max</th>\n",
       "      <td>2020.000000</td>\n",
       "      <td>159999.000000</td>\n",
       "      <td>259000.000000</td>\n",
       "      <td>580.000000</td>\n",
       "      <td>217.300000</td>\n",
       "      <td>6.200000</td>\n",
       "    </tr>\n",
       "  </tbody>\n",
       "</table>\n",
       "</div>"
      ],
      "text/plain": [
       "               year          price        mileage           tax           mpg  \\\n",
       "count  13119.000000   13119.000000   13119.000000  13119.000000  13119.000000   \n",
       "mean    2017.296288   24698.596920   21949.559037    129.972178     55.155843   \n",
       "std        2.224709   11842.675542   21176.512267     65.260286     15.220082   \n",
       "min     1970.000000     650.000000       1.000000      0.000000      1.100000   \n",
       "25%     2016.000000   17450.000000    6097.500000    125.000000     45.600000   \n",
       "50%     2018.000000   22480.000000   15189.000000    145.000000     56.500000   \n",
       "75%     2019.000000   28980.000000   31779.500000    145.000000     64.200000   \n",
       "max     2020.000000  159999.000000  259000.000000    580.000000    217.300000   \n",
       "\n",
       "         engineSize  \n",
       "count  13119.000000  \n",
       "mean       2.071530  \n",
       "std        0.572426  \n",
       "min        0.000000  \n",
       "25%        1.800000  \n",
       "50%        2.000000  \n",
       "75%        2.100000  \n",
       "max        6.200000  "
      ]
     },
     "execution_count": 7,
     "metadata": {},
     "output_type": "execute_result"
    }
   ],
   "source": [
    "dataFrame.describe()"
   ]
  },
  {
   "cell_type": "code",
   "execution_count": 8,
   "metadata": {},
   "outputs": [
    {
     "data": {
      "text/plain": [
       "year            0\n",
       "price           0\n",
       "transmission    0\n",
       "mileage         0\n",
       "tax             0\n",
       "mpg             0\n",
       "engineSize      0\n",
       "dtype: int64"
      ]
     },
     "execution_count": 8,
     "metadata": {},
     "output_type": "execute_result"
    }
   ],
   "source": [
    "dataFrame.isnull().sum() #Boş veri olup olmadığının okunaklı olarak kontrolü bu şekilde yapılır.\n",
    "\n",
    "#Sadece \"dataFrame.isnull()\" yazıldığında boş olanları True gösterecek şekilde dataFramemimizi ekrana getirir.\n",
    "#Fakat çok fazla veri olduğunda boş veriler tam olarak gözükmeyecek ve okunaklı olmayacaktır.\n",
    "#O yüzden \"dataFrame.isnull().sum()\" komutu kullanılmalıdır.\n",
    "\n",
    "#Boş verinin fazlalığına göre o satır veya sütün çıkartılır veya ortalama bir değer yazılır."
   ]
  },
  {
   "cell_type": "code",
   "execution_count": 9,
   "metadata": {},
   "outputs": [],
   "source": [
    "#Görüldüğü üzere verimizde hiç boş veri yok."
   ]
  },
  {
   "cell_type": "markdown",
   "metadata": {},
   "source": [
    "## 8.16_Grafiksel Analizler"
   ]
  },
  {
   "cell_type": "code",
   "execution_count": 10,
   "metadata": {},
   "outputs": [],
   "source": [
    "#Regresyona geçmeden önce:\n",
    "#Verilerin birbirlerine olan ilişkisini incelememiz ve nasıl dağıldığına dair grafiğini çizdirmemiz gerekiyor ki\n",
    "#bazı kararlar verebilelim."
   ]
  },
  {
   "cell_type": "code",
   "execution_count": 11,
   "metadata": {},
   "outputs": [
    {
     "data": {
      "text/plain": [
       "<matplotlib.axes._subplots.AxesSubplot at 0x1f3a96b0df0>"
      ]
     },
     "execution_count": 11,
     "metadata": {},
     "output_type": "execute_result"
    },
    {
     "data": {
      "image/png": "[encoded data removed]",
      "text/plain": [
       "<Figure size 504x360 with 1 Axes>"
      ]
     },
     "metadata": {
      "needs_background": "light"
     },
     "output_type": "display_data"
    }
   ],
   "source": [
    "plt.figure(figsize=(7,5))\n",
    "sbn.distplot(dataFrame[\"price\"]) #Dağılımını yani nasıl dağıldığını göster demektir.\n",
    "\n",
    "#distplot metodu daha sonraki versiyonlarda silineceği için displot ve histplot metodu kullanın hatasını verdi."
   ]
  },
  {
   "cell_type": "code",
   "execution_count": 12,
   "metadata": {},
   "outputs": [],
   "source": [
    "#Görüldüğü üzere veri normal dağılıma sahip ve veriler daha çok 25000'de toplandığı görülüyor.\n",
    "#Fakat verimizde çok yüksek fiyatlı değerler de var. Bu veriler sıkıntı oluşturabilir.\n",
    "#Çünkü modelimize yeni özellikler verdiğimizde doğru sonuçlar elde edilemeyebilir.\n",
    "\n",
    "#Örneğin modelimize yeni özellikler verildiğinde o özelliklere göre fiyat 75000 olacakken\n",
    "#benzer özelliklerde daha fazla fiyatlı arabalar verimizin içinde olduğundan modelimiz bize yanlış sonuçlar verebilir.\n",
    "#Veya elimizde 10-20 civarında yüksek fiyatlı veriler var diye bazı özellikler verdiğimizde model yüksek fiyatlı sonuçlar\n",
    "#elde edebilir. (sapma olabilir)\n",
    "\n",
    "#Çıkartma işlemi yaptığımızda zaten biz yüksek özellikler verdiğimizde model otomatik olarak fiyatını yükseltecektir.\n",
    "#O yüzden modelimizin doğru çalışması için aykırı değerlerin çıkartılması gerekir ki\n",
    "#modelimiz fiyat ile özellikler arasındaki fonksiyonel ilişkiyi doğru kurabilsin.\n",
    "\n",
    "#Aykırı değerleri çıkarmadığımız zamanki modeli eğittiğimizde modelin oluşturduğu fonksiyonel ilişki ile,\n",
    "#aykırı değerleri çıkardığımız zamanki modeli eğittiğimizde modelin oluşturduğu fonksiyonel ilişki farklı olacağından\n",
    "#daha sonrasında modele bazı özellikler verdiğimizde bize yanlış sonuçlar verebilir.\n",
    "\n",
    "#Özet olarak:\n",
    "#Hassas bir denklem elde edilmek isteniyorsa çıkarma işleminin yapılmasına gerek yoktur.\n",
    "#Ya da her iki durum da denenmeli ve hangisi daha iyi çalışıyorsa o kullanılmalıdır.\n",
    "#Aykırı değerlerin atılması ile model yine de iyi çalışıyorsa atılmasında fayda vardır.\n",
    "\n",
    "#Bu işlem tercih meselesidir."
   ]
  },
  {
   "cell_type": "code",
   "execution_count": 13,
   "metadata": {},
   "outputs": [
    {
     "data": {
      "text/plain": [
       "<matplotlib.axes._subplots.AxesSubplot at 0x1f3a9132940>"
      ]
     },
     "execution_count": 13,
     "metadata": {},
     "output_type": "execute_result"
    },
    {
     "data": {
      "image/png": "[encoded data removed]",
      "text/plain": [
       "<Figure size 432x288 with 1 Axes>"
      ]
     },
     "metadata": {
      "needs_background": "light"
     },
     "output_type": "display_data"
    }
   ],
   "source": [
    "sbn.countplot(dataFrame[\"year\"]) #Hangi yıldan kaç tane olduğunun bilgisini verir."
   ]
  },
  {
   "cell_type": "code",
   "execution_count": 14,
   "metadata": {},
   "outputs": [
    {
     "data": {
      "text/html": [
       "<div>\n",
       "<style scoped>\n",
       "    .dataframe tbody tr th:only-of-type {\n",
       "        vertical-align: middle;\n",
       "    }\n",
       "\n",
       "    .dataframe tbody tr th {\n",
       "        vertical-align: top;\n",
       "    }\n",
       "\n",
       "    .dataframe thead th {\n",
       "        text-align: right;\n",
       "    }\n",
       "</style>\n",
       "<table border=\"1\" class=\"dataframe\">\n",
       "  <thead>\n",
       "    <tr style=\"text-align: right;\">\n",
       "      <th></th>\n",
       "      <th>year</th>\n",
       "      <th>price</th>\n",
       "      <th>mileage</th>\n",
       "      <th>tax</th>\n",
       "      <th>mpg</th>\n",
       "      <th>engineSize</th>\n",
       "    </tr>\n",
       "  </thead>\n",
       "  <tbody>\n",
       "    <tr>\n",
       "      <th>year</th>\n",
       "      <td>1.000000</td>\n",
       "      <td>0.520712</td>\n",
       "      <td>-0.738027</td>\n",
       "      <td>0.012480</td>\n",
       "      <td>-0.094626</td>\n",
       "      <td>-0.142147</td>\n",
       "    </tr>\n",
       "    <tr>\n",
       "      <th>price</th>\n",
       "      <td>0.520712</td>\n",
       "      <td>1.000000</td>\n",
       "      <td>-0.537214</td>\n",
       "      <td>0.268717</td>\n",
       "      <td>-0.438445</td>\n",
       "      <td>0.516126</td>\n",
       "    </tr>\n",
       "    <tr>\n",
       "      <th>mileage</th>\n",
       "      <td>-0.738027</td>\n",
       "      <td>-0.537214</td>\n",
       "      <td>1.000000</td>\n",
       "      <td>-0.160223</td>\n",
       "      <td>0.202850</td>\n",
       "      <td>0.063652</td>\n",
       "    </tr>\n",
       "    <tr>\n",
       "      <th>tax</th>\n",
       "      <td>0.012480</td>\n",
       "      <td>0.268717</td>\n",
       "      <td>-0.160223</td>\n",
       "      <td>1.000000</td>\n",
       "      <td>-0.513742</td>\n",
       "      <td>0.338341</td>\n",
       "    </tr>\n",
       "    <tr>\n",
       "      <th>mpg</th>\n",
       "      <td>-0.094626</td>\n",
       "      <td>-0.438445</td>\n",
       "      <td>0.202850</td>\n",
       "      <td>-0.513742</td>\n",
       "      <td>1.000000</td>\n",
       "      <td>-0.339862</td>\n",
       "    </tr>\n",
       "    <tr>\n",
       "      <th>engineSize</th>\n",
       "      <td>-0.142147</td>\n",
       "      <td>0.516126</td>\n",
       "      <td>0.063652</td>\n",
       "      <td>0.338341</td>\n",
       "      <td>-0.339862</td>\n",
       "      <td>1.000000</td>\n",
       "    </tr>\n",
       "  </tbody>\n",
       "</table>\n",
       "</div>"
      ],
      "text/plain": [
       "                year     price   mileage       tax       mpg  engineSize\n",
       "year        1.000000  0.520712 -0.738027  0.012480 -0.094626   -0.142147\n",
       "price       0.520712  1.000000 -0.537214  0.268717 -0.438445    0.516126\n",
       "mileage    -0.738027 -0.537214  1.000000 -0.160223  0.202850    0.063652\n",
       "tax         0.012480  0.268717 -0.160223  1.000000 -0.513742    0.338341\n",
       "mpg        -0.094626 -0.438445  0.202850 -0.513742  1.000000   -0.339862\n",
       "engineSize -0.142147  0.516126  0.063652  0.338341 -0.339862    1.000000"
      ]
     },
     "execution_count": 14,
     "metadata": {},
     "output_type": "execute_result"
    }
   ],
   "source": [
    "dataFrame.corr() #Değişkenlerin birbirleri arasındaki ilişkiyi gösterir. (korelasyon)"
   ]
  },
  {
   "cell_type": "code",
   "execution_count": 15,
   "metadata": {},
   "outputs": [
    {
     "data": {
      "text/plain": [
       "mileage      -0.537214\n",
       "mpg          -0.438445\n",
       "tax           0.268717\n",
       "engineSize    0.516126\n",
       "year          0.520712\n",
       "price         1.000000\n",
       "Name: price, dtype: float64"
      ]
     },
     "execution_count": 15,
     "metadata": {},
     "output_type": "execute_result"
    }
   ],
   "source": [
    "dataFrame.corr()[\"price\"].sort_values() #Fiyatın diğer değişkenlere göre ilişkisi (sort_values() ile de değerler sıralandı)"
   ]
  },
  {
   "cell_type": "code",
   "execution_count": 16,
   "metadata": {},
   "outputs": [],
   "source": [
    "#Görüldüğü üzere yılın ve motor boyutunun fiyata pozitif yüksek bir ilişkisi vardır.\n",
    "#Yani yıl ve motor boyutu arttığında fiyat artacaktır. (mantıken)\n",
    "\n",
    "#En çok negatif ilişkiye sahip özellik ne kadar mil kullanıldığı bilgisidir.\n",
    "#Kullanılan mil arttıkça fiyat da düşecektir. (mantıken)"
   ]
  },
  {
   "cell_type": "code",
   "execution_count": 17,
   "metadata": {},
   "outputs": [],
   "source": [
    "#Fark edileceği üzere \"transmission\" özelliği hesaplanmadı. Çünkü nicel bir özellik olduğu için hesaplama yapamadı.\n",
    "#Otomatik olanlara 1, manuel olanlara 0 atanarak hesaplama yapılabilir.\n",
    "#Fakat fiyata çok etki etmediği düşünüldüğü için hesaplama yapılmayacak."
   ]
  },
  {
   "cell_type": "markdown",
   "metadata": {},
   "source": [
    "## 8.17_En Yüksek Fiyatlı Arabalar"
   ]
  },
  {
   "cell_type": "code",
   "execution_count": 18,
   "metadata": {
    "scrolled": true
   },
   "outputs": [
    {
     "data": {
      "text/plain": [
       "<matplotlib.axes._subplots.AxesSubplot at 0x1f3a97e9610>"
      ]
     },
     "execution_count": 18,
     "metadata": {},
     "output_type": "execute_result"
    },
    {
     "data": {
      "image/png": "[encoded data removed]",
      "text/plain": [
       "<Figure size 432x288 with 1 Axes>"
      ]
     },
     "metadata": {
      "needs_background": "light"
     },
     "output_type": "display_data"
    }
   ],
   "source": [
    "sbn.scatterplot(x = \"mileage\", y = \"price\", data = dataFrame)"
   ]
  },
  {
   "cell_type": "code",
   "execution_count": 19,
   "metadata": {},
   "outputs": [
    {
     "data": {
      "text/html": [
       "<div>\n",
       "<style scoped>\n",
       "    .dataframe tbody tr th:only-of-type {\n",
       "        vertical-align: middle;\n",
       "    }\n",
       "\n",
       "    .dataframe tbody tr th {\n",
       "        vertical-align: top;\n",
       "    }\n",
       "\n",
       "    .dataframe thead th {\n",
       "        text-align: right;\n",
       "    }\n",
       "</style>\n",
       "<table border=\"1\" class=\"dataframe\">\n",
       "  <thead>\n",
       "    <tr style=\"text-align: right;\">\n",
       "      <th></th>\n",
       "      <th>year</th>\n",
       "      <th>price</th>\n",
       "      <th>transmission</th>\n",
       "      <th>mileage</th>\n",
       "      <th>tax</th>\n",
       "      <th>mpg</th>\n",
       "      <th>engineSize</th>\n",
       "    </tr>\n",
       "  </thead>\n",
       "  <tbody>\n",
       "    <tr>\n",
       "      <th>6199</th>\n",
       "      <td>2020</td>\n",
       "      <td>159999</td>\n",
       "      <td>Semi-Auto</td>\n",
       "      <td>1350</td>\n",
       "      <td>145</td>\n",
       "      <td>21.4</td>\n",
       "      <td>4.0</td>\n",
       "    </tr>\n",
       "    <tr>\n",
       "      <th>10044</th>\n",
       "      <td>2020</td>\n",
       "      <td>154998</td>\n",
       "      <td>Automatic</td>\n",
       "      <td>3000</td>\n",
       "      <td>150</td>\n",
       "      <td>21.4</td>\n",
       "      <td>4.0</td>\n",
       "    </tr>\n",
       "    <tr>\n",
       "      <th>5</th>\n",
       "      <td>2011</td>\n",
       "      <td>149948</td>\n",
       "      <td>Automatic</td>\n",
       "      <td>3000</td>\n",
       "      <td>570</td>\n",
       "      <td>21.4</td>\n",
       "      <td>6.2</td>\n",
       "    </tr>\n",
       "    <tr>\n",
       "      <th>8737</th>\n",
       "      <td>2019</td>\n",
       "      <td>140319</td>\n",
       "      <td>Semi-Auto</td>\n",
       "      <td>785</td>\n",
       "      <td>150</td>\n",
       "      <td>22.1</td>\n",
       "      <td>4.0</td>\n",
       "    </tr>\n",
       "    <tr>\n",
       "      <th>6386</th>\n",
       "      <td>2018</td>\n",
       "      <td>139995</td>\n",
       "      <td>Semi-Auto</td>\n",
       "      <td>13046</td>\n",
       "      <td>145</td>\n",
       "      <td>21.4</td>\n",
       "      <td>4.0</td>\n",
       "    </tr>\n",
       "    <tr>\n",
       "      <th>8</th>\n",
       "      <td>2019</td>\n",
       "      <td>139948</td>\n",
       "      <td>Automatic</td>\n",
       "      <td>12000</td>\n",
       "      <td>145</td>\n",
       "      <td>21.4</td>\n",
       "      <td>4.0</td>\n",
       "    </tr>\n",
       "    <tr>\n",
       "      <th>9133</th>\n",
       "      <td>2019</td>\n",
       "      <td>139559</td>\n",
       "      <td>Semi-Auto</td>\n",
       "      <td>1000</td>\n",
       "      <td>145</td>\n",
       "      <td>22.1</td>\n",
       "      <td>4.0</td>\n",
       "    </tr>\n",
       "    <tr>\n",
       "      <th>8821</th>\n",
       "      <td>2020</td>\n",
       "      <td>138439</td>\n",
       "      <td>Semi-Auto</td>\n",
       "      <td>1000</td>\n",
       "      <td>145</td>\n",
       "      <td>22.1</td>\n",
       "      <td>4.0</td>\n",
       "    </tr>\n",
       "    <tr>\n",
       "      <th>5902</th>\n",
       "      <td>2018</td>\n",
       "      <td>135771</td>\n",
       "      <td>Semi-Auto</td>\n",
       "      <td>19000</td>\n",
       "      <td>145</td>\n",
       "      <td>21.4</td>\n",
       "      <td>4.0</td>\n",
       "    </tr>\n",
       "    <tr>\n",
       "      <th>7864</th>\n",
       "      <td>2018</td>\n",
       "      <td>135124</td>\n",
       "      <td>Semi-Auto</td>\n",
       "      <td>18234</td>\n",
       "      <td>150</td>\n",
       "      <td>21.4</td>\n",
       "      <td>4.0</td>\n",
       "    </tr>\n",
       "    <tr>\n",
       "      <th>8673</th>\n",
       "      <td>2019</td>\n",
       "      <td>134219</td>\n",
       "      <td>Semi-Auto</td>\n",
       "      <td>1000</td>\n",
       "      <td>145</td>\n",
       "      <td>24.8</td>\n",
       "      <td>4.0</td>\n",
       "    </tr>\n",
       "    <tr>\n",
       "      <th>6210</th>\n",
       "      <td>2019</td>\n",
       "      <td>129990</td>\n",
       "      <td>Automatic</td>\n",
       "      <td>1000</td>\n",
       "      <td>145</td>\n",
       "      <td>24.8</td>\n",
       "      <td>4.0</td>\n",
       "    </tr>\n",
       "    <tr>\n",
       "      <th>4759</th>\n",
       "      <td>2019</td>\n",
       "      <td>126000</td>\n",
       "      <td>Automatic</td>\n",
       "      <td>250</td>\n",
       "      <td>145</td>\n",
       "      <td>24.6</td>\n",
       "      <td>4.0</td>\n",
       "    </tr>\n",
       "    <tr>\n",
       "      <th>2647</th>\n",
       "      <td>2019</td>\n",
       "      <td>125796</td>\n",
       "      <td>Automatic</td>\n",
       "      <td>637</td>\n",
       "      <td>145</td>\n",
       "      <td>24.8</td>\n",
       "      <td>4.0</td>\n",
       "    </tr>\n",
       "    <tr>\n",
       "      <th>6223</th>\n",
       "      <td>2019</td>\n",
       "      <td>124999</td>\n",
       "      <td>Automatic</td>\n",
       "      <td>1500</td>\n",
       "      <td>145</td>\n",
       "      <td>31.7</td>\n",
       "      <td>4.0</td>\n",
       "    </tr>\n",
       "    <tr>\n",
       "      <th>4094</th>\n",
       "      <td>2019</td>\n",
       "      <td>124366</td>\n",
       "      <td>Semi-Auto</td>\n",
       "      <td>880</td>\n",
       "      <td>145</td>\n",
       "      <td>24.8</td>\n",
       "      <td>4.0</td>\n",
       "    </tr>\n",
       "    <tr>\n",
       "      <th>2629</th>\n",
       "      <td>2019</td>\n",
       "      <td>123846</td>\n",
       "      <td>Semi-Auto</td>\n",
       "      <td>2951</td>\n",
       "      <td>145</td>\n",
       "      <td>22.1</td>\n",
       "      <td>4.0</td>\n",
       "    </tr>\n",
       "    <tr>\n",
       "      <th>7134</th>\n",
       "      <td>2019</td>\n",
       "      <td>115359</td>\n",
       "      <td>Semi-Auto</td>\n",
       "      <td>1000</td>\n",
       "      <td>145</td>\n",
       "      <td>30.1</td>\n",
       "      <td>4.0</td>\n",
       "    </tr>\n",
       "    <tr>\n",
       "      <th>9159</th>\n",
       "      <td>2019</td>\n",
       "      <td>114199</td>\n",
       "      <td>Semi-Auto</td>\n",
       "      <td>891</td>\n",
       "      <td>145</td>\n",
       "      <td>22.6</td>\n",
       "      <td>4.0</td>\n",
       "    </tr>\n",
       "    <tr>\n",
       "      <th>1980</th>\n",
       "      <td>2019</td>\n",
       "      <td>109995</td>\n",
       "      <td>Semi-Auto</td>\n",
       "      <td>4688</td>\n",
       "      <td>150</td>\n",
       "      <td>31.7</td>\n",
       "      <td>4.0</td>\n",
       "    </tr>\n",
       "  </tbody>\n",
       "</table>\n",
       "</div>"
      ],
      "text/plain": [
       "       year   price transmission  mileage  tax   mpg  engineSize\n",
       "6199   2020  159999    Semi-Auto     1350  145  21.4         4.0\n",
       "10044  2020  154998    Automatic     3000  150  21.4         4.0\n",
       "5      2011  149948    Automatic     3000  570  21.4         6.2\n",
       "8737   2019  140319    Semi-Auto      785  150  22.1         4.0\n",
       "6386   2018  139995    Semi-Auto    13046  145  21.4         4.0\n",
       "8      2019  139948    Automatic    12000  145  21.4         4.0\n",
       "9133   2019  139559    Semi-Auto     1000  145  22.1         4.0\n",
       "8821   2020  138439    Semi-Auto     1000  145  22.1         4.0\n",
       "5902   2018  135771    Semi-Auto    19000  145  21.4         4.0\n",
       "7864   2018  135124    Semi-Auto    18234  150  21.4         4.0\n",
       "8673   2019  134219    Semi-Auto     1000  145  24.8         4.0\n",
       "6210   2019  129990    Automatic     1000  145  24.8         4.0\n",
       "4759   2019  126000    Automatic      250  145  24.6         4.0\n",
       "2647   2019  125796    Automatic      637  145  24.8         4.0\n",
       "6223   2019  124999    Automatic     1500  145  31.7         4.0\n",
       "4094   2019  124366    Semi-Auto      880  145  24.8         4.0\n",
       "2629   2019  123846    Semi-Auto     2951  145  22.1         4.0\n",
       "7134   2019  115359    Semi-Auto     1000  145  30.1         4.0\n",
       "9159   2019  114199    Semi-Auto      891  145  22.6         4.0\n",
       "1980   2019  109995    Semi-Auto     4688  150  31.7         4.0"
      ]
     },
     "execution_count": 19,
     "metadata": {},
     "output_type": "execute_result"
    }
   ],
   "source": [
    "dataFrame.sort_values(\"price\", ascending = False).head(20)\n",
    "\n",
    "#ascending, yazılan değerin artarak gösterip göstermeyeceğinin sorusunu sorar.\n",
    "#False dediğimiz için artan değil de azalan bir tablo getirsin istedik. (fiyat olarak)"
   ]
  },
  {
   "cell_type": "code",
   "execution_count": 20,
   "metadata": {},
   "outputs": [
    {
     "data": {
      "text/html": [
       "<div>\n",
       "<style scoped>\n",
       "    .dataframe tbody tr th:only-of-type {\n",
       "        vertical-align: middle;\n",
       "    }\n",
       "\n",
       "    .dataframe tbody tr th {\n",
       "        vertical-align: top;\n",
       "    }\n",
       "\n",
       "    .dataframe thead th {\n",
       "        text-align: right;\n",
       "    }\n",
       "</style>\n",
       "<table border=\"1\" class=\"dataframe\">\n",
       "  <thead>\n",
       "    <tr style=\"text-align: right;\">\n",
       "      <th></th>\n",
       "      <th>year</th>\n",
       "      <th>price</th>\n",
       "      <th>transmission</th>\n",
       "      <th>mileage</th>\n",
       "      <th>tax</th>\n",
       "      <th>mpg</th>\n",
       "      <th>engineSize</th>\n",
       "    </tr>\n",
       "  </thead>\n",
       "  <tbody>\n",
       "    <tr>\n",
       "      <th>11816</th>\n",
       "      <td>2003</td>\n",
       "      <td>650</td>\n",
       "      <td>Manual</td>\n",
       "      <td>109090</td>\n",
       "      <td>235</td>\n",
       "      <td>40.0</td>\n",
       "      <td>1.4</td>\n",
       "    </tr>\n",
       "    <tr>\n",
       "      <th>12008</th>\n",
       "      <td>2010</td>\n",
       "      <td>1350</td>\n",
       "      <td>Manual</td>\n",
       "      <td>116126</td>\n",
       "      <td>145</td>\n",
       "      <td>54.3</td>\n",
       "      <td>2.0</td>\n",
       "    </tr>\n",
       "    <tr>\n",
       "      <th>11765</th>\n",
       "      <td>2000</td>\n",
       "      <td>1490</td>\n",
       "      <td>Automatic</td>\n",
       "      <td>87000</td>\n",
       "      <td>265</td>\n",
       "      <td>27.2</td>\n",
       "      <td>3.2</td>\n",
       "    </tr>\n",
       "    <tr>\n",
       "      <th>11549</th>\n",
       "      <td>2002</td>\n",
       "      <td>1495</td>\n",
       "      <td>Automatic</td>\n",
       "      <td>13800</td>\n",
       "      <td>305</td>\n",
       "      <td>39.8</td>\n",
       "      <td>2.7</td>\n",
       "    </tr>\n",
       "    <tr>\n",
       "      <th>12594</th>\n",
       "      <td>2004</td>\n",
       "      <td>1495</td>\n",
       "      <td>Manual</td>\n",
       "      <td>119000</td>\n",
       "      <td>300</td>\n",
       "      <td>34.5</td>\n",
       "      <td>1.8</td>\n",
       "    </tr>\n",
       "    <tr>\n",
       "      <th>11174</th>\n",
       "      <td>2001</td>\n",
       "      <td>1695</td>\n",
       "      <td>Automatic</td>\n",
       "      <td>108800</td>\n",
       "      <td>325</td>\n",
       "      <td>31.7</td>\n",
       "      <td>3.2</td>\n",
       "    </tr>\n",
       "    <tr>\n",
       "      <th>12710</th>\n",
       "      <td>2006</td>\n",
       "      <td>1695</td>\n",
       "      <td>Automatic</td>\n",
       "      <td>153000</td>\n",
       "      <td>300</td>\n",
       "      <td>33.6</td>\n",
       "      <td>1.8</td>\n",
       "    </tr>\n",
       "    <tr>\n",
       "      <th>12766</th>\n",
       "      <td>2004</td>\n",
       "      <td>1780</td>\n",
       "      <td>Automatic</td>\n",
       "      <td>118000</td>\n",
       "      <td>265</td>\n",
       "      <td>41.5</td>\n",
       "      <td>2.2</td>\n",
       "    </tr>\n",
       "    <tr>\n",
       "      <th>12009</th>\n",
       "      <td>2007</td>\n",
       "      <td>1800</td>\n",
       "      <td>Automatic</td>\n",
       "      <td>84000</td>\n",
       "      <td>200</td>\n",
       "      <td>42.8</td>\n",
       "      <td>1.5</td>\n",
       "    </tr>\n",
       "    <tr>\n",
       "      <th>11764</th>\n",
       "      <td>1998</td>\n",
       "      <td>1990</td>\n",
       "      <td>Automatic</td>\n",
       "      <td>99300</td>\n",
       "      <td>265</td>\n",
       "      <td>32.1</td>\n",
       "      <td>2.3</td>\n",
       "    </tr>\n",
       "    <tr>\n",
       "      <th>11808</th>\n",
       "      <td>1998</td>\n",
       "      <td>1990</td>\n",
       "      <td>Automatic</td>\n",
       "      <td>113557</td>\n",
       "      <td>265</td>\n",
       "      <td>32.1</td>\n",
       "      <td>2.3</td>\n",
       "    </tr>\n",
       "    <tr>\n",
       "      <th>11383</th>\n",
       "      <td>2005</td>\n",
       "      <td>1995</td>\n",
       "      <td>Automatic</td>\n",
       "      <td>105000</td>\n",
       "      <td>260</td>\n",
       "      <td>43.5</td>\n",
       "      <td>2.1</td>\n",
       "    </tr>\n",
       "    <tr>\n",
       "      <th>11378</th>\n",
       "      <td>2004</td>\n",
       "      <td>1995</td>\n",
       "      <td>Semi-Auto</td>\n",
       "      <td>165000</td>\n",
       "      <td>330</td>\n",
       "      <td>20.0</td>\n",
       "      <td>3.7</td>\n",
       "    </tr>\n",
       "    <tr>\n",
       "      <th>11857</th>\n",
       "      <td>2002</td>\n",
       "      <td>2140</td>\n",
       "      <td>Automatic</td>\n",
       "      <td>52700</td>\n",
       "      <td>325</td>\n",
       "      <td>31.4</td>\n",
       "      <td>2.0</td>\n",
       "    </tr>\n",
       "    <tr>\n",
       "      <th>11906</th>\n",
       "      <td>2007</td>\n",
       "      <td>2478</td>\n",
       "      <td>Automatic</td>\n",
       "      <td>81000</td>\n",
       "      <td>160</td>\n",
       "      <td>49.6</td>\n",
       "      <td>2.0</td>\n",
       "    </tr>\n",
       "    <tr>\n",
       "      <th>11795</th>\n",
       "      <td>2005</td>\n",
       "      <td>2490</td>\n",
       "      <td>Automatic</td>\n",
       "      <td>101980</td>\n",
       "      <td>200</td>\n",
       "      <td>47.9</td>\n",
       "      <td>2.0</td>\n",
       "    </tr>\n",
       "    <tr>\n",
       "      <th>12765</th>\n",
       "      <td>2004</td>\n",
       "      <td>2495</td>\n",
       "      <td>Automatic</td>\n",
       "      <td>104000</td>\n",
       "      <td>325</td>\n",
       "      <td>31.7</td>\n",
       "      <td>1.8</td>\n",
       "    </tr>\n",
       "    <tr>\n",
       "      <th>11943</th>\n",
       "      <td>2005</td>\n",
       "      <td>2690</td>\n",
       "      <td>Automatic</td>\n",
       "      <td>109000</td>\n",
       "      <td>325</td>\n",
       "      <td>32.1</td>\n",
       "      <td>1.8</td>\n",
       "    </tr>\n",
       "    <tr>\n",
       "      <th>11263</th>\n",
       "      <td>2007</td>\n",
       "      <td>2795</td>\n",
       "      <td>Manual</td>\n",
       "      <td>79485</td>\n",
       "      <td>200</td>\n",
       "      <td>45.6</td>\n",
       "      <td>1.5</td>\n",
       "    </tr>\n",
       "    <tr>\n",
       "      <th>49</th>\n",
       "      <td>2006</td>\n",
       "      <td>2880</td>\n",
       "      <td>Automatic</td>\n",
       "      <td>66000</td>\n",
       "      <td>160</td>\n",
       "      <td>52.3</td>\n",
       "      <td>2.0</td>\n",
       "    </tr>\n",
       "  </tbody>\n",
       "</table>\n",
       "</div>"
      ],
      "text/plain": [
       "       year  price transmission  mileage  tax   mpg  engineSize\n",
       "11816  2003    650       Manual   109090  235  40.0         1.4\n",
       "12008  2010   1350       Manual   116126  145  54.3         2.0\n",
       "11765  2000   1490    Automatic    87000  265  27.2         3.2\n",
       "11549  2002   1495    Automatic    13800  305  39.8         2.7\n",
       "12594  2004   1495       Manual   119000  300  34.5         1.8\n",
       "11174  2001   1695    Automatic   108800  325  31.7         3.2\n",
       "12710  2006   1695    Automatic   153000  300  33.6         1.8\n",
       "12766  2004   1780    Automatic   118000  265  41.5         2.2\n",
       "12009  2007   1800    Automatic    84000  200  42.8         1.5\n",
       "11764  1998   1990    Automatic    99300  265  32.1         2.3\n",
       "11808  1998   1990    Automatic   113557  265  32.1         2.3\n",
       "11383  2005   1995    Automatic   105000  260  43.5         2.1\n",
       "11378  2004   1995    Semi-Auto   165000  330  20.0         3.7\n",
       "11857  2002   2140    Automatic    52700  325  31.4         2.0\n",
       "11906  2007   2478    Automatic    81000  160  49.6         2.0\n",
       "11795  2005   2490    Automatic   101980  200  47.9         2.0\n",
       "12765  2004   2495    Automatic   104000  325  31.7         1.8\n",
       "11943  2005   2690    Automatic   109000  325  32.1         1.8\n",
       "11263  2007   2795       Manual    79485  200  45.6         1.5\n",
       "49     2006   2880    Automatic    66000  160  52.3         2.0"
      ]
     },
     "execution_count": 20,
     "metadata": {},
     "output_type": "execute_result"
    }
   ],
   "source": [
    "dataFrame.sort_values(\"price\", ascending = True).head(20)"
   ]
  },
  {
   "cell_type": "code",
   "execution_count": 21,
   "metadata": {},
   "outputs": [],
   "source": [
    "#Düşük fiyatlıları değil de yüksek fiyatları veriden çıkarmamızın sebebi grafiğe bakarak bunu anlamamızdır.\n",
    "#Yüksek fiyatlı arabalar daha az olduğu için onlar çıkarılmalıdır.\n",
    "#Unutulmamalıdır ki çıkarma işlemi tamamen tercih meselesidir.\n",
    "#Her ikisi de gösterilecektir, fakat bu adımda çıkarma işlemi yapılacaktır."
   ]
  },
  {
   "cell_type": "code",
   "execution_count": 22,
   "metadata": {},
   "outputs": [
    {
     "data": {
      "text/plain": [
       "13119"
      ]
     },
     "execution_count": 22,
     "metadata": {},
     "output_type": "execute_result"
    }
   ],
   "source": [
    "len(dataFrame)"
   ]
  },
  {
   "cell_type": "code",
   "execution_count": 23,
   "metadata": {},
   "outputs": [
    {
     "data": {
      "text/plain": [
       "131.19"
      ]
     },
     "execution_count": 23,
     "metadata": {},
     "output_type": "execute_result"
    }
   ],
   "source": [
    "len(dataFrame) * 0.01"
   ]
  },
  {
   "cell_type": "code",
   "execution_count": 24,
   "metadata": {},
   "outputs": [],
   "source": [
    "#Bir verinin %99'u alındığında yüksek ihtimalle o verinin yansıttığı genel tabloyu bozmadan işlemlere devam edilebilir.\n",
    "#Hesaplandığına göre 131 tane yüksek fiyatlı veri çıkartıldığında verinin genel yapısı bozulmamış olur."
   ]
  },
  {
   "cell_type": "markdown",
   "metadata": {},
   "source": [
    "## 8.18_Veri Temizliği"
   ]
  },
  {
   "cell_type": "code",
   "execution_count": 25,
   "metadata": {},
   "outputs": [],
   "source": [
    "yuzdeDoksanDokuzDf = dataFrame.sort_values(\"price\", ascending = False).iloc[131:]\n",
    "\n",
    "#131. satırdan sonrası alındı ve değişkene eşitlendi. Böylece en yüksek fiyatlı 131 veri gitmiş oldu."
   ]
  },
  {
   "cell_type": "code",
   "execution_count": 26,
   "metadata": {},
   "outputs": [
    {
     "data": {
      "text/html": [
       "<div>\n",
       "<style scoped>\n",
       "    .dataframe tbody tr th:only-of-type {\n",
       "        vertical-align: middle;\n",
       "    }\n",
       "\n",
       "    .dataframe tbody tr th {\n",
       "        vertical-align: top;\n",
       "    }\n",
       "\n",
       "    .dataframe thead th {\n",
       "        text-align: right;\n",
       "    }\n",
       "</style>\n",
       "<table border=\"1\" class=\"dataframe\">\n",
       "  <thead>\n",
       "    <tr style=\"text-align: right;\">\n",
       "      <th></th>\n",
       "      <th>year</th>\n",
       "      <th>price</th>\n",
       "      <th>mileage</th>\n",
       "      <th>tax</th>\n",
       "      <th>mpg</th>\n",
       "      <th>engineSize</th>\n",
       "    </tr>\n",
       "  </thead>\n",
       "  <tbody>\n",
       "    <tr>\n",
       "      <th>count</th>\n",
       "      <td>12988.000000</td>\n",
       "      <td>12988.000000</td>\n",
       "      <td>12988.000000</td>\n",
       "      <td>12988.000000</td>\n",
       "      <td>12988.000000</td>\n",
       "      <td>12988.000000</td>\n",
       "    </tr>\n",
       "    <tr>\n",
       "      <th>mean</th>\n",
       "      <td>2017.281876</td>\n",
       "      <td>24074.926933</td>\n",
       "      <td>22132.741146</td>\n",
       "      <td>129.689714</td>\n",
       "      <td>55.437142</td>\n",
       "      <td>2.050901</td>\n",
       "    </tr>\n",
       "    <tr>\n",
       "      <th>std</th>\n",
       "      <td>2.228515</td>\n",
       "      <td>9866.224575</td>\n",
       "      <td>21196.776401</td>\n",
       "      <td>65.183076</td>\n",
       "      <td>15.025999</td>\n",
       "      <td>0.532596</td>\n",
       "    </tr>\n",
       "    <tr>\n",
       "      <th>min</th>\n",
       "      <td>1970.000000</td>\n",
       "      <td>650.000000</td>\n",
       "      <td>1.000000</td>\n",
       "      <td>0.000000</td>\n",
       "      <td>1.100000</td>\n",
       "      <td>0.000000</td>\n",
       "    </tr>\n",
       "    <tr>\n",
       "      <th>25%</th>\n",
       "      <td>2016.000000</td>\n",
       "      <td>17357.500000</td>\n",
       "      <td>6322.000000</td>\n",
       "      <td>125.000000</td>\n",
       "      <td>45.600000</td>\n",
       "      <td>1.675000</td>\n",
       "    </tr>\n",
       "    <tr>\n",
       "      <th>50%</th>\n",
       "      <td>2018.000000</td>\n",
       "      <td>22299.000000</td>\n",
       "      <td>15369.500000</td>\n",
       "      <td>145.000000</td>\n",
       "      <td>56.500000</td>\n",
       "      <td>2.000000</td>\n",
       "    </tr>\n",
       "    <tr>\n",
       "      <th>75%</th>\n",
       "      <td>2019.000000</td>\n",
       "      <td>28706.000000</td>\n",
       "      <td>31982.250000</td>\n",
       "      <td>145.000000</td>\n",
       "      <td>64.200000</td>\n",
       "      <td>2.100000</td>\n",
       "    </tr>\n",
       "    <tr>\n",
       "      <th>max</th>\n",
       "      <td>2020.000000</td>\n",
       "      <td>65990.000000</td>\n",
       "      <td>259000.000000</td>\n",
       "      <td>580.000000</td>\n",
       "      <td>217.300000</td>\n",
       "      <td>6.200000</td>\n",
       "    </tr>\n",
       "  </tbody>\n",
       "</table>\n",
       "</div>"
      ],
      "text/plain": [
       "               year         price        mileage           tax           mpg  \\\n",
       "count  12988.000000  12988.000000   12988.000000  12988.000000  12988.000000   \n",
       "mean    2017.281876  24074.926933   22132.741146    129.689714     55.437142   \n",
       "std        2.228515   9866.224575   21196.776401     65.183076     15.025999   \n",
       "min     1970.000000    650.000000       1.000000      0.000000      1.100000   \n",
       "25%     2016.000000  17357.500000    6322.000000    125.000000     45.600000   \n",
       "50%     2018.000000  22299.000000   15369.500000    145.000000     56.500000   \n",
       "75%     2019.000000  28706.000000   31982.250000    145.000000     64.200000   \n",
       "max     2020.000000  65990.000000  259000.000000    580.000000    217.300000   \n",
       "\n",
       "         engineSize  \n",
       "count  12988.000000  \n",
       "mean       2.050901  \n",
       "std        0.532596  \n",
       "min        0.000000  \n",
       "25%        1.675000  \n",
       "50%        2.000000  \n",
       "75%        2.100000  \n",
       "max        6.200000  "
      ]
     },
     "execution_count": 26,
     "metadata": {},
     "output_type": "execute_result"
    }
   ],
   "source": [
    "yuzdeDoksanDokuzDf.describe()"
   ]
  },
  {
   "cell_type": "code",
   "execution_count": 27,
   "metadata": {},
   "outputs": [
    {
     "data": {
      "text/plain": [
       "<matplotlib.axes._subplots.AxesSubplot at 0x1f3a9699490>"
      ]
     },
     "execution_count": 27,
     "metadata": {},
     "output_type": "execute_result"
    },
    {
     "data": {
      "image/png": "[encoded data removed]",
      "text/plain": [
       "<Figure size 504x360 with 1 Axes>"
      ]
     },
     "metadata": {
      "needs_background": "light"
     },
     "output_type": "display_data"
    }
   ],
   "source": [
    "plt.figure(figsize = (7,5))\n",
    "sbn.distplot(yuzdeDoksanDokuzDf[\"price\"])"
   ]
  },
  {
   "cell_type": "code",
   "execution_count": 28,
   "metadata": {},
   "outputs": [],
   "source": [
    "#Görüldüğü üzere yüksek fiyatlı veriler atıldığında daha düzgün bir normal dağılım elde edildi."
   ]
  },
  {
   "cell_type": "code",
   "execution_count": 29,
   "metadata": {},
   "outputs": [
    {
     "data": {
      "text/html": [
       "<div>\n",
       "<style scoped>\n",
       "    .dataframe tbody tr th:only-of-type {\n",
       "        vertical-align: middle;\n",
       "    }\n",
       "\n",
       "    .dataframe tbody tr th {\n",
       "        vertical-align: top;\n",
       "    }\n",
       "\n",
       "    .dataframe thead th {\n",
       "        text-align: right;\n",
       "    }\n",
       "</style>\n",
       "<table border=\"1\" class=\"dataframe\">\n",
       "  <thead>\n",
       "    <tr style=\"text-align: right;\">\n",
       "      <th></th>\n",
       "      <th>year</th>\n",
       "      <th>price</th>\n",
       "      <th>mileage</th>\n",
       "      <th>tax</th>\n",
       "      <th>mpg</th>\n",
       "      <th>engineSize</th>\n",
       "    </tr>\n",
       "  </thead>\n",
       "  <tbody>\n",
       "    <tr>\n",
       "      <th>count</th>\n",
       "      <td>13119.000000</td>\n",
       "      <td>13119.000000</td>\n",
       "      <td>13119.000000</td>\n",
       "      <td>13119.000000</td>\n",
       "      <td>13119.000000</td>\n",
       "      <td>13119.000000</td>\n",
       "    </tr>\n",
       "    <tr>\n",
       "      <th>mean</th>\n",
       "      <td>2017.296288</td>\n",
       "      <td>24698.596920</td>\n",
       "      <td>21949.559037</td>\n",
       "      <td>129.972178</td>\n",
       "      <td>55.155843</td>\n",
       "      <td>2.071530</td>\n",
       "    </tr>\n",
       "    <tr>\n",
       "      <th>std</th>\n",
       "      <td>2.224709</td>\n",
       "      <td>11842.675542</td>\n",
       "      <td>21176.512267</td>\n",
       "      <td>65.260286</td>\n",
       "      <td>15.220082</td>\n",
       "      <td>0.572426</td>\n",
       "    </tr>\n",
       "    <tr>\n",
       "      <th>min</th>\n",
       "      <td>1970.000000</td>\n",
       "      <td>650.000000</td>\n",
       "      <td>1.000000</td>\n",
       "      <td>0.000000</td>\n",
       "      <td>1.100000</td>\n",
       "      <td>0.000000</td>\n",
       "    </tr>\n",
       "    <tr>\n",
       "      <th>25%</th>\n",
       "      <td>2016.000000</td>\n",
       "      <td>17450.000000</td>\n",
       "      <td>6097.500000</td>\n",
       "      <td>125.000000</td>\n",
       "      <td>45.600000</td>\n",
       "      <td>1.800000</td>\n",
       "    </tr>\n",
       "    <tr>\n",
       "      <th>50%</th>\n",
       "      <td>2018.000000</td>\n",
       "      <td>22480.000000</td>\n",
       "      <td>15189.000000</td>\n",
       "      <td>145.000000</td>\n",
       "      <td>56.500000</td>\n",
       "      <td>2.000000</td>\n",
       "    </tr>\n",
       "    <tr>\n",
       "      <th>75%</th>\n",
       "      <td>2019.000000</td>\n",
       "      <td>28980.000000</td>\n",
       "      <td>31779.500000</td>\n",
       "      <td>145.000000</td>\n",
       "      <td>64.200000</td>\n",
       "      <td>2.100000</td>\n",
       "    </tr>\n",
       "    <tr>\n",
       "      <th>max</th>\n",
       "      <td>2020.000000</td>\n",
       "      <td>159999.000000</td>\n",
       "      <td>259000.000000</td>\n",
       "      <td>580.000000</td>\n",
       "      <td>217.300000</td>\n",
       "      <td>6.200000</td>\n",
       "    </tr>\n",
       "  </tbody>\n",
       "</table>\n",
       "</div>"
      ],
      "text/plain": [
       "               year          price        mileage           tax           mpg  \\\n",
       "count  13119.000000   13119.000000   13119.000000  13119.000000  13119.000000   \n",
       "mean    2017.296288   24698.596920   21949.559037    129.972178     55.155843   \n",
       "std        2.224709   11842.675542   21176.512267     65.260286     15.220082   \n",
       "min     1970.000000     650.000000       1.000000      0.000000      1.100000   \n",
       "25%     2016.000000   17450.000000    6097.500000    125.000000     45.600000   \n",
       "50%     2018.000000   22480.000000   15189.000000    145.000000     56.500000   \n",
       "75%     2019.000000   28980.000000   31779.500000    145.000000     64.200000   \n",
       "max     2020.000000  159999.000000  259000.000000    580.000000    217.300000   \n",
       "\n",
       "         engineSize  \n",
       "count  13119.000000  \n",
       "mean       2.071530  \n",
       "std        0.572426  \n",
       "min        0.000000  \n",
       "25%        1.800000  \n",
       "50%        2.000000  \n",
       "75%        2.100000  \n",
       "max        6.200000  "
      ]
     },
     "execution_count": 29,
     "metadata": {},
     "output_type": "execute_result"
    }
   ],
   "source": [
    "dataFrame.describe() #Orijinal dataFrame hala duruyor. Onda bir değişiklik yapılmadı."
   ]
  },
  {
   "cell_type": "code",
   "execution_count": 30,
   "metadata": {},
   "outputs": [
    {
     "data": {
      "text/plain": [
       "year\n",
       "1970    24999.000000\n",
       "1997     9995.000000\n",
       "1998     8605.000000\n",
       "1999     5995.000000\n",
       "2000     5743.333333\n",
       "2001     4957.900000\n",
       "2002     5820.444444\n",
       "2003     4878.000000\n",
       "2004     4727.615385\n",
       "2005     4426.111111\n",
       "2006     4036.875000\n",
       "2007     5136.045455\n",
       "2008     6967.437500\n",
       "2009     6166.764706\n",
       "2010     8308.473684\n",
       "2011    12624.894737\n",
       "2012    10845.140351\n",
       "2013    11939.842466\n",
       "2014    14042.936864\n",
       "2015    16731.780020\n",
       "2016    19307.892948\n",
       "2017    21514.307854\n",
       "2018    25720.162918\n",
       "2019    31290.020865\n",
       "2020    35433.282337\n",
       "Name: price, dtype: float64"
      ]
     },
     "execution_count": 30,
     "metadata": {},
     "output_type": "execute_result"
    }
   ],
   "source": [
    "dataFrame.groupby(\"year\").mean()[\"price\"]"
   ]
  },
  {
   "cell_type": "code",
   "execution_count": 31,
   "metadata": {},
   "outputs": [
    {
     "data": {
      "text/plain": [
       "year\n",
       "1970    24999.000000\n",
       "1997     9995.000000\n",
       "1998     8605.000000\n",
       "1999     5995.000000\n",
       "2000     5743.333333\n",
       "2001     4957.900000\n",
       "2002     5820.444444\n",
       "2003     4878.000000\n",
       "2004     4727.615385\n",
       "2005     4426.111111\n",
       "2006     4036.875000\n",
       "2007     5136.045455\n",
       "2008     6967.437500\n",
       "2009     6166.764706\n",
       "2010     8308.473684\n",
       "2011     8913.459459\n",
       "2012    10845.140351\n",
       "2013    11939.842466\n",
       "2014    14042.936864\n",
       "2015    16647.822222\n",
       "2016    19223.558943\n",
       "2017    21356.280421\n",
       "2018    24800.844506\n",
       "2019    30289.524832\n",
       "2020    34234.794872\n",
       "Name: price, dtype: float64"
      ]
     },
     "execution_count": 31,
     "metadata": {},
     "output_type": "execute_result"
    }
   ],
   "source": [
    "yuzdeDoksanDokuzDf.groupby(\"year\").mean()[\"price\"]"
   ]
  },
  {
   "cell_type": "code",
   "execution_count": 32,
   "metadata": {},
   "outputs": [],
   "source": [
    "#Verilere bakıldığında 1970 model arabaların ortalaması (25000) 2018 civarı yıllar ile neredeyse aynı.\n",
    "#Bu veriler de çıkarılabilir fakat tercih meselesidir. Biz çıkarma işlemi yapacağız."
   ]
  },
  {
   "cell_type": "code",
   "execution_count": 33,
   "metadata": {},
   "outputs": [
    {
     "data": {
      "text/plain": [
       "year\n",
       "1997     9995.000000\n",
       "1998     8605.000000\n",
       "1999     5995.000000\n",
       "2000     5743.333333\n",
       "2001     4957.900000\n",
       "2002     5820.444444\n",
       "2003     4878.000000\n",
       "2004     4727.615385\n",
       "2005     4426.111111\n",
       "2006     4036.875000\n",
       "2007     5136.045455\n",
       "2008     6967.437500\n",
       "2009     6166.764706\n",
       "2010     8308.473684\n",
       "2011    12624.894737\n",
       "2012    10845.140351\n",
       "2013    11939.842466\n",
       "2014    14042.936864\n",
       "2015    16731.780020\n",
       "2016    19307.892948\n",
       "2017    21514.307854\n",
       "2018    25720.162918\n",
       "2019    31290.020865\n",
       "2020    35433.282337\n",
       "Name: price, dtype: float64"
      ]
     },
     "execution_count": 33,
     "metadata": {},
     "output_type": "execute_result"
    }
   ],
   "source": [
    "dataFrame[dataFrame.year != 1970].groupby(\"year\").mean()[\"price\"]\n",
    "\n",
    "#Yılı 1970'e eşit olmayan veriler getirildi. Bu şekilde yazılarak ve bir değişkene aktarılarak 1970'li veriler atılabilir.\n",
    "#\"dataFrame.year != 1970\" komutu SQL'de kullanılan bir komuttur, Python bu yazımı destekler."
   ]
  },
  {
   "cell_type": "code",
   "execution_count": 34,
   "metadata": {},
   "outputs": [],
   "source": [
    "dataFrame = yuzdeDoksanDokuzDf #Güncel veriler dataFrame'me eşitlendi."
   ]
  },
  {
   "cell_type": "code",
   "execution_count": 35,
   "metadata": {},
   "outputs": [
    {
     "data": {
      "text/html": [
       "<div>\n",
       "<style scoped>\n",
       "    .dataframe tbody tr th:only-of-type {\n",
       "        vertical-align: middle;\n",
       "    }\n",
       "\n",
       "    .dataframe tbody tr th {\n",
       "        vertical-align: top;\n",
       "    }\n",
       "\n",
       "    .dataframe thead th {\n",
       "        text-align: right;\n",
       "    }\n",
       "</style>\n",
       "<table border=\"1\" class=\"dataframe\">\n",
       "  <thead>\n",
       "    <tr style=\"text-align: right;\">\n",
       "      <th></th>\n",
       "      <th>year</th>\n",
       "      <th>price</th>\n",
       "      <th>mileage</th>\n",
       "      <th>tax</th>\n",
       "      <th>mpg</th>\n",
       "      <th>engineSize</th>\n",
       "    </tr>\n",
       "  </thead>\n",
       "  <tbody>\n",
       "    <tr>\n",
       "      <th>count</th>\n",
       "      <td>12988.000000</td>\n",
       "      <td>12988.000000</td>\n",
       "      <td>12988.000000</td>\n",
       "      <td>12988.000000</td>\n",
       "      <td>12988.000000</td>\n",
       "      <td>12988.000000</td>\n",
       "    </tr>\n",
       "    <tr>\n",
       "      <th>mean</th>\n",
       "      <td>2017.281876</td>\n",
       "      <td>24074.926933</td>\n",
       "      <td>22132.741146</td>\n",
       "      <td>129.689714</td>\n",
       "      <td>55.437142</td>\n",
       "      <td>2.050901</td>\n",
       "    </tr>\n",
       "    <tr>\n",
       "      <th>std</th>\n",
       "      <td>2.228515</td>\n",
       "      <td>9866.224575</td>\n",
       "      <td>21196.776401</td>\n",
       "      <td>65.183076</td>\n",
       "      <td>15.025999</td>\n",
       "      <td>0.532596</td>\n",
       "    </tr>\n",
       "    <tr>\n",
       "      <th>min</th>\n",
       "      <td>1970.000000</td>\n",
       "      <td>650.000000</td>\n",
       "      <td>1.000000</td>\n",
       "      <td>0.000000</td>\n",
       "      <td>1.100000</td>\n",
       "      <td>0.000000</td>\n",
       "    </tr>\n",
       "    <tr>\n",
       "      <th>25%</th>\n",
       "      <td>2016.000000</td>\n",
       "      <td>17357.500000</td>\n",
       "      <td>6322.000000</td>\n",
       "      <td>125.000000</td>\n",
       "      <td>45.600000</td>\n",
       "      <td>1.675000</td>\n",
       "    </tr>\n",
       "    <tr>\n",
       "      <th>50%</th>\n",
       "      <td>2018.000000</td>\n",
       "      <td>22299.000000</td>\n",
       "      <td>15369.500000</td>\n",
       "      <td>145.000000</td>\n",
       "      <td>56.500000</td>\n",
       "      <td>2.000000</td>\n",
       "    </tr>\n",
       "    <tr>\n",
       "      <th>75%</th>\n",
       "      <td>2019.000000</td>\n",
       "      <td>28706.000000</td>\n",
       "      <td>31982.250000</td>\n",
       "      <td>145.000000</td>\n",
       "      <td>64.200000</td>\n",
       "      <td>2.100000</td>\n",
       "    </tr>\n",
       "    <tr>\n",
       "      <th>max</th>\n",
       "      <td>2020.000000</td>\n",
       "      <td>65990.000000</td>\n",
       "      <td>259000.000000</td>\n",
       "      <td>580.000000</td>\n",
       "      <td>217.300000</td>\n",
       "      <td>6.200000</td>\n",
       "    </tr>\n",
       "  </tbody>\n",
       "</table>\n",
       "</div>"
      ],
      "text/plain": [
       "               year         price        mileage           tax           mpg  \\\n",
       "count  12988.000000  12988.000000   12988.000000  12988.000000  12988.000000   \n",
       "mean    2017.281876  24074.926933   22132.741146    129.689714     55.437142   \n",
       "std        2.228515   9866.224575   21196.776401     65.183076     15.025999   \n",
       "min     1970.000000    650.000000       1.000000      0.000000      1.100000   \n",
       "25%     2016.000000  17357.500000    6322.000000    125.000000     45.600000   \n",
       "50%     2018.000000  22299.000000   15369.500000    145.000000     56.500000   \n",
       "75%     2019.000000  28706.000000   31982.250000    145.000000     64.200000   \n",
       "max     2020.000000  65990.000000  259000.000000    580.000000    217.300000   \n",
       "\n",
       "         engineSize  \n",
       "count  12988.000000  \n",
       "mean       2.050901  \n",
       "std        0.532596  \n",
       "min        0.000000  \n",
       "25%        1.675000  \n",
       "50%        2.000000  \n",
       "75%        2.100000  \n",
       "max        6.200000  "
      ]
     },
     "execution_count": 35,
     "metadata": {},
     "output_type": "execute_result"
    }
   ],
   "source": [
    "dataFrame.describe()"
   ]
  },
  {
   "cell_type": "code",
   "execution_count": 36,
   "metadata": {},
   "outputs": [],
   "source": [
    "dataFrame = dataFrame[dataFrame.year != 1970] #1970'li veriler atılıp dataFrame'e eşitlendi."
   ]
  },
  {
   "cell_type": "code",
   "execution_count": 37,
   "metadata": {},
   "outputs": [
    {
     "data": {
      "text/plain": [
       "year\n",
       "1997     9995.000000\n",
       "1998     8605.000000\n",
       "1999     5995.000000\n",
       "2000     5743.333333\n",
       "2001     4957.900000\n",
       "2002     5820.444444\n",
       "2003     4878.000000\n",
       "2004     4727.615385\n",
       "2005     4426.111111\n",
       "2006     4036.875000\n",
       "2007     5136.045455\n",
       "2008     6967.437500\n",
       "2009     6166.764706\n",
       "2010     8308.473684\n",
       "2011     8913.459459\n",
       "2012    10845.140351\n",
       "2013    11939.842466\n",
       "2014    14042.936864\n",
       "2015    16647.822222\n",
       "2016    19223.558943\n",
       "2017    21356.280421\n",
       "2018    24800.844506\n",
       "2019    30289.524832\n",
       "2020    34234.794872\n",
       "Name: price, dtype: float64"
      ]
     },
     "execution_count": 37,
     "metadata": {},
     "output_type": "execute_result"
    }
   ],
   "source": [
    "dataFrame.groupby(\"year\").mean()[\"price\"]"
   ]
  },
  {
   "cell_type": "code",
   "execution_count": 38,
   "metadata": {},
   "outputs": [
    {
     "data": {
      "text/html": [
       "<div>\n",
       "<style scoped>\n",
       "    .dataframe tbody tr th:only-of-type {\n",
       "        vertical-align: middle;\n",
       "    }\n",
       "\n",
       "    .dataframe tbody tr th {\n",
       "        vertical-align: top;\n",
       "    }\n",
       "\n",
       "    .dataframe thead th {\n",
       "        text-align: right;\n",
       "    }\n",
       "</style>\n",
       "<table border=\"1\" class=\"dataframe\">\n",
       "  <thead>\n",
       "    <tr style=\"text-align: right;\">\n",
       "      <th></th>\n",
       "      <th>year</th>\n",
       "      <th>price</th>\n",
       "      <th>transmission</th>\n",
       "      <th>mileage</th>\n",
       "      <th>tax</th>\n",
       "      <th>mpg</th>\n",
       "      <th>engineSize</th>\n",
       "    </tr>\n",
       "  </thead>\n",
       "  <tbody>\n",
       "    <tr>\n",
       "      <th>6177</th>\n",
       "      <td>2019</td>\n",
       "      <td>65990</td>\n",
       "      <td>Semi-Auto</td>\n",
       "      <td>5076</td>\n",
       "      <td>150</td>\n",
       "      <td>30.4</td>\n",
       "      <td>3.0</td>\n",
       "    </tr>\n",
       "    <tr>\n",
       "      <th>5779</th>\n",
       "      <td>2020</td>\n",
       "      <td>65990</td>\n",
       "      <td>Semi-Auto</td>\n",
       "      <td>999</td>\n",
       "      <td>145</td>\n",
       "      <td>28.0</td>\n",
       "      <td>4.0</td>\n",
       "    </tr>\n",
       "    <tr>\n",
       "      <th>3191</th>\n",
       "      <td>2020</td>\n",
       "      <td>65980</td>\n",
       "      <td>Semi-Auto</td>\n",
       "      <td>3999</td>\n",
       "      <td>145</td>\n",
       "      <td>28.0</td>\n",
       "      <td>4.0</td>\n",
       "    </tr>\n",
       "    <tr>\n",
       "      <th>4727</th>\n",
       "      <td>2019</td>\n",
       "      <td>65000</td>\n",
       "      <td>Semi-Auto</td>\n",
       "      <td>3398</td>\n",
       "      <td>145</td>\n",
       "      <td>27.2</td>\n",
       "      <td>4.0</td>\n",
       "    </tr>\n",
       "    <tr>\n",
       "      <th>8814</th>\n",
       "      <td>2019</td>\n",
       "      <td>64999</td>\n",
       "      <td>Semi-Auto</td>\n",
       "      <td>119</td>\n",
       "      <td>145</td>\n",
       "      <td>40.9</td>\n",
       "      <td>3.0</td>\n",
       "    </tr>\n",
       "  </tbody>\n",
       "</table>\n",
       "</div>"
      ],
      "text/plain": [
       "      year  price transmission  mileage  tax   mpg  engineSize\n",
       "6177  2019  65990    Semi-Auto     5076  150  30.4         3.0\n",
       "5779  2020  65990    Semi-Auto      999  145  28.0         4.0\n",
       "3191  2020  65980    Semi-Auto     3999  145  28.0         4.0\n",
       "4727  2019  65000    Semi-Auto     3398  145  27.2         4.0\n",
       "8814  2019  64999    Semi-Auto      119  145  40.9         3.0"
      ]
     },
     "execution_count": 38,
     "metadata": {},
     "output_type": "execute_result"
    }
   ],
   "source": [
    "dataFrame.head()"
   ]
  },
  {
   "cell_type": "code",
   "execution_count": 39,
   "metadata": {},
   "outputs": [],
   "source": [
    "#\"Transmission\" sütunu sayısal bir veri olmadığı için o sütun atılmalıdır.\n",
    "#Atılıp atılmaması yine tercih meselesidir, değer verilerek de işleme koyulabilir. (0,1 gibi)"
   ]
  },
  {
   "cell_type": "code",
   "execution_count": 40,
   "metadata": {},
   "outputs": [],
   "source": [
    "dataFrame = dataFrame.drop(\"transmission\", axis = 1)"
   ]
  },
  {
   "cell_type": "markdown",
   "metadata": {},
   "source": [
    "### Normallik Testleri (Özel Kontrol)"
   ]
  },
  {
   "cell_type": "markdown",
   "metadata": {},
   "source": [
    "#### Not: Derse ait değildir, bana ait olup kontrol amaçlıdır."
   ]
  },
  {
   "cell_type": "code",
   "execution_count": 41,
   "metadata": {},
   "outputs": [],
   "source": [
    "from scipy import stats"
   ]
  },
  {
   "cell_type": "code",
   "execution_count": 42,
   "metadata": {},
   "outputs": [
    {
     "name": "stdout",
     "output_type": "stream",
     "text": [
      "ShapiroResult(statistic=0.9320070743560791, pvalue=0.0)\n"
     ]
    },
    {
     "name": "stderr",
     "output_type": "stream",
     "text": [
      "C:\\Users\\ertug\\anaconda3\\lib\\site-packages\\scipy\\stats\\morestats.py:1681: UserWarning: p-value may not be accurate for N > 5000.\n",
      "  warnings.warn(\"p-value may not be accurate for N > 5000.\")\n"
     ]
    }
   ],
   "source": [
    "print (stats.shapiro(dataFrame['price']))"
   ]
  },
  {
   "cell_type": "code",
   "execution_count": 43,
   "metadata": {},
   "outputs": [
    {
     "data": {
      "text/plain": [
       "6177     11.097258\n",
       "5779     11.097258\n",
       "3191     11.097107\n",
       "4727     11.082143\n",
       "8814     11.082127\n",
       "           ...    \n",
       "11549     7.309881\n",
       "12594     7.309881\n",
       "11765     7.306531\n",
       "12008     7.207860\n",
       "11816     6.476972\n",
       "Name: price, Length: 12987, dtype: float64"
      ]
     },
     "execution_count": 43,
     "metadata": {},
     "output_type": "execute_result"
    }
   ],
   "source": [
    "np.log(dataFrame[\"price\"])"
   ]
  },
  {
   "cell_type": "code",
   "execution_count": 44,
   "metadata": {},
   "outputs": [
    {
     "data": {
      "text/plain": [
       "<matplotlib.axes._subplots.AxesSubplot at 0x1f3a94fb850>"
      ]
     },
     "execution_count": 44,
     "metadata": {},
     "output_type": "execute_result"
    },
    {
     "data": {
      "image/png": "[encoded data removed]",
      "text/plain": [
       "<Figure size 432x288 with 1 Axes>"
      ]
     },
     "metadata": {
      "needs_background": "light"
     },
     "output_type": "display_data"
    }
   ],
   "source": [
    "sbn.distplot(np.log(dataFrame[\"price\"]))"
   ]
  },
  {
   "cell_type": "code",
   "execution_count": 46,
   "metadata": {},
   "outputs": [],
   "source": [
    "from scipy.stats import kstest"
   ]
  },
  {
   "cell_type": "code",
   "execution_count": 47,
   "metadata": {},
   "outputs": [
    {
     "name": "stdout",
     "output_type": "stream",
     "text": [
      "statistic=1.000, p=0.000\n",
      "\n",
      "Normal Değildir.\n"
     ]
    }
   ],
   "source": [
    "statistic, pvalue = kstest(np.log(dataFrame['price']), 'norm')\n",
    "print('statistic=%.3f, p=%.3f\\n' % (statistic, pvalue))\n",
    "\n",
    "if pvalue > 0.05:\n",
    "    print(\"Normaldir.\")\n",
    "else:\n",
    "    print(\"Normal Değildir.\")"
   ]
  },
  {
   "cell_type": "code",
   "execution_count": 39,
   "metadata": {},
   "outputs": [],
   "source": [
    "#Veri temizliği gerçekleşti. Artık bu veri eğitilmek için hazır."
   ]
  },
  {
   "cell_type": "markdown",
   "metadata": {},
   "source": [
    "#### Not: Kontrol buraya kadardır."
   ]
  },
  {
   "cell_type": "markdown",
   "metadata": {},
   "source": [
    "## 8.19_Model Oluşturmak"
   ]
  },
  {
   "cell_type": "code",
   "execution_count": 40,
   "metadata": {},
   "outputs": [],
   "source": [
    "#Adımları hatırlayalım:"
   ]
  },
  {
   "cell_type": "code",
   "execution_count": 41,
   "metadata": {},
   "outputs": [],
   "source": [
    "#Adım 1:\n",
    "\n",
    "#Tahmin edilmek istenen değişken(fiyat) Numpy dizisine dönüştürülüp y'ye atanır.\n",
    "#Özellikler Numpy dizisine dönüştürülüp x'e atanır.\n",
    "\n",
    "y = dataFrame[\"price\"].values \n",
    "x = dataFrame.drop(\"price\", axis = 1).values\n",
    "#Fiyat değişkeni atıldığında geriye kalan değişkenler \"özellikler\" oldu ve x'e atandı.\n",
    "#Fazla özellik olduğunda bu komut işe yarayacaktır."
   ]
  },
  {
   "cell_type": "code",
   "execution_count": 42,
   "metadata": {},
   "outputs": [
    {
     "data": {
      "text/plain": [
       "array([65990, 65990, 65980, ...,  1490,  1350,   650], dtype=int64)"
      ]
     },
     "execution_count": 42,
     "metadata": {},
     "output_type": "execute_result"
    }
   ],
   "source": [
    "y"
   ]
  },
  {
   "cell_type": "code",
   "execution_count": 43,
   "metadata": {},
   "outputs": [
    {
     "data": {
      "text/plain": [
       "array([[2.01900e+03, 5.07600e+03, 1.50000e+02, 3.04000e+01, 3.00000e+00],\n",
       "       [2.02000e+03, 9.99000e+02, 1.45000e+02, 2.80000e+01, 4.00000e+00],\n",
       "       [2.02000e+03, 3.99900e+03, 1.45000e+02, 2.80000e+01, 4.00000e+00],\n",
       "       ...,\n",
       "       [2.00000e+03, 8.70000e+04, 2.65000e+02, 2.72000e+01, 3.20000e+00],\n",
       "       [2.01000e+03, 1.16126e+05, 1.45000e+02, 5.43000e+01, 2.00000e+00],\n",
       "       [2.00300e+03, 1.09090e+05, 2.35000e+02, 4.00000e+01, 1.40000e+00]])"
      ]
     },
     "execution_count": 43,
     "metadata": {},
     "output_type": "execute_result"
    }
   ],
   "source": [
    "x"
   ]
  },
  {
   "cell_type": "code",
   "execution_count": 44,
   "metadata": {},
   "outputs": [],
   "source": [
    "#Adım 2:\n",
    "\n",
    "#Veriler train/test olarak ikiye ayrılır."
   ]
  },
  {
   "cell_type": "code",
   "execution_count": 45,
   "metadata": {},
   "outputs": [],
   "source": [
    "from sklearn.model_selection import train_test_split #Ayırma işlemi için gerekli kütüphane import edilir."
   ]
  },
  {
   "cell_type": "code",
   "execution_count": 46,
   "metadata": {},
   "outputs": [],
   "source": [
    "x_train, x_test, y_train, y_test = train_test_split(x, y, test_size=0.3, random_state=10)\n",
    "\n",
    "#Yüzde kaçının teste ayrılacağı belirlenir.\n",
    "#Aynı bölünmüş veriler kullanılmak istendiğinde random_state sayısı karar verilir ve ona atanır. (tercih meselesidir)"
   ]
  },
  {
   "cell_type": "code",
   "execution_count": 47,
   "metadata": {},
   "outputs": [
    {
     "data": {
      "text/plain": [
       "9090"
      ]
     },
     "execution_count": 47,
     "metadata": {},
     "output_type": "execute_result"
    }
   ],
   "source": [
    "len(x_train) #Ne kadar sayıda ayrıldığının kontrolü yapılabilir."
   ]
  },
  {
   "cell_type": "code",
   "execution_count": 48,
   "metadata": {},
   "outputs": [
    {
     "data": {
      "text/plain": [
       "3897"
      ]
     },
     "execution_count": 48,
     "metadata": {},
     "output_type": "execute_result"
    }
   ],
   "source": [
    "len(x_test) #Ne kadar sayıda ayrıldığının kontrolü yapılabilir."
   ]
  },
  {
   "cell_type": "code",
   "execution_count": 49,
   "metadata": {},
   "outputs": [],
   "source": [
    "#Adım: 3\n",
    "\n",
    "#x'lere (özelliklere) scaling(ölçeklendirme) işlemi yapılır. (bu işlem için normalize işlemi yapılır -> 0-1 aralığına)"
   ]
  },
  {
   "cell_type": "code",
   "execution_count": 50,
   "metadata": {},
   "outputs": [],
   "source": [
    "from sklearn.preprocessing import MinMaxScaler #Scaling işlemi için gerekli kütüphane import edilir."
   ]
  },
  {
   "cell_type": "code",
   "execution_count": 51,
   "metadata": {},
   "outputs": [],
   "source": [
    "scaler = MinMaxScaler()"
   ]
  },
  {
   "cell_type": "code",
   "execution_count": 52,
   "metadata": {},
   "outputs": [],
   "source": [
    "x_train = scaler.fit_transform(x_train)"
   ]
  },
  {
   "cell_type": "code",
   "execution_count": 53,
   "metadata": {},
   "outputs": [
    {
     "data": {
      "text/plain": [
       "array([[0.82608696, 0.07228985, 0.03448276, 0.30619796, 0.33870968],\n",
       "       [0.86956522, 0.22407036, 0.25      , 0.27890842, 0.32258065],\n",
       "       [0.82608696, 0.11663365, 0.05172414, 0.29879741, 0.32258065],\n",
       "       ...,\n",
       "       [0.65217391, 0.25115541, 0.21551724, 0.27890842, 0.29032258],\n",
       "       [0.73913043, 0.11981513, 0.34482759, 0.18408881, 0.32258065],\n",
       "       [0.86956522, 0.06027436, 0.40517241, 0.20212766, 0.35483871]])"
      ]
     },
     "execution_count": 53,
     "metadata": {},
     "output_type": "execute_result"
    }
   ],
   "source": [
    "x_train"
   ]
  },
  {
   "cell_type": "code",
   "execution_count": 54,
   "metadata": {},
   "outputs": [],
   "source": [
    "x_test = scaler.transform(x_test)"
   ]
  },
  {
   "cell_type": "code",
   "execution_count": 55,
   "metadata": {},
   "outputs": [
    {
     "data": {
      "text/plain": [
       "array([[0.82608696, 0.03091518, 0.03448276, 0.30619796, 0.33870968],\n",
       "       [0.82608696, 0.02683408, 0.34482759, 0.19287697, 0.32258065],\n",
       "       [1.        , 0.01605026, 0.25      , 0.29879741, 0.24193548],\n",
       "       ...,\n",
       "       [0.95652174, 0.03815459, 0.25      , 0.27890842, 0.32258065],\n",
       "       [0.82608696, 0.32833718, 0.        , 0.56290472, 0.32258065],\n",
       "       [0.95652174, 0.018502  , 0.25      , 0.26734505, 0.25806452]])"
      ]
     },
     "execution_count": 55,
     "metadata": {},
     "output_type": "execute_result"
    }
   ],
   "source": [
    "x_test"
   ]
  },
  {
   "cell_type": "code",
   "execution_count": 56,
   "metadata": {},
   "outputs": [],
   "source": [
    "#Adım 4:\n",
    "\n",
    "#Model ve katmanlar oluşturulur."
   ]
  },
  {
   "cell_type": "code",
   "execution_count": 57,
   "metadata": {},
   "outputs": [],
   "source": [
    "from tensorflow.keras.models import Sequential #Model oluşturmak için gerekli kütüphane import edilir.\n",
    "from tensorflow.keras.layers import Dense #Katman oluşturmak için gerekli kütüphane import edilir.\n",
    "\n",
    "#Dense: Nöronların, outputların birbirine bağlı olduğu katman çeşidi.\n",
    "#Sequential: Model oluşturma sınıfı."
   ]
  },
  {
   "cell_type": "code",
   "execution_count": 58,
   "metadata": {},
   "outputs": [
    {
     "data": {
      "text/plain": [
       "(9090, 5)"
      ]
     },
     "execution_count": 58,
     "metadata": {},
     "output_type": "execute_result"
    }
   ],
   "source": [
    "x_train.shape"
   ]
  },
  {
   "cell_type": "code",
   "execution_count": 59,
   "metadata": {},
   "outputs": [],
   "source": [
    "#5 tane özellik olduğuna göre ilk katmanda da 5 tane nöron olması mantıklı olacaktır.\n",
    "#Tahmin:\n",
    "#Çünkü bir nöron bir özelliği alıp fiyata göre fonksiyonel ilişki(model) kurması gerekiyor. Bu da 5 nörona eşit olur.\n",
    "\n",
    "#Tabi ki doğru sonuç vermediğinde nöron sayısı da arttırılabilir.\n",
    "#Burada 12 nöron tercih edildi. (eğitmen daha öncesinde 5 nöron koyduğunda pek iyi sonuç alamadığı için 12 nöron denenecek)"
   ]
  },
  {
   "cell_type": "code",
   "execution_count": 60,
   "metadata": {},
   "outputs": [],
   "source": [
    "model = Sequential()\n",
    "\n",
    "model.add(Dense(12, activation=\"relu\"))\n",
    "model.add(Dense(12, activation=\"relu\"))\n",
    "model.add(Dense(12, activation=\"relu\"))\n",
    "model.add(Dense(12, activation=\"relu\"))\n",
    "\n",
    "model.add(Dense(1))\n",
    "\n",
    "model.compile(optimizer=\"adam\", loss=\"mse\")"
   ]
  },
  {
   "cell_type": "code",
   "execution_count": 61,
   "metadata": {},
   "outputs": [],
   "source": [
    "#Adım 5:\n",
    "\n",
    "#Model eğitilmeye başlanır."
   ]
  },
  {
   "cell_type": "code",
   "execution_count": 62,
   "metadata": {},
   "outputs": [
    {
     "name": "stdout",
     "output_type": "stream",
     "text": [
      "Train on 9090 samples, validate on 3897 samples\n",
      "Epoch 1/300\n",
      "9090/9090 [==============================] - 1s 110us/sample - loss: 672150845.2541 - val_loss: 688112102.3967\n",
      "Epoch 2/300\n",
      "9090/9090 [==============================] - 0s 14us/sample - loss: 672140948.5589 - val_loss: 688098203.0485\n",
      "Epoch 3/300\n",
      "9090/9090 [==============================] - 0s 16us/sample - loss: 672113937.8130 - val_loss: 688047176.7041\n",
      "Epoch 4/300\n",
      "9090/9090 [==============================] - 0s 14us/sample - loss: 672017541.9846 - val_loss: 687875315.2558\n",
      "Epoch 5/300\n",
      "9090/9090 [==============================] - 0s 15us/sample - loss: 671705814.8119 - val_loss: 687322953.6402\n",
      "Epoch 6/300\n",
      "9090/9090 [==============================] - 0s 15us/sample - loss: 670721706.2442 - val_loss: 685663172.5656\n",
      "Epoch 7/300\n",
      "9090/9090 [==============================] - 0s 14us/sample - loss: 668058372.2244 - val_loss: 681498754.8904\n",
      "Epoch 8/300\n",
      "9090/9090 [==============================] - 0s 14us/sample - loss: 661924657.3553 - val_loss: 672563689.7634\n",
      "Epoch 9/300\n",
      "9090/9090 [==============================] - 0s 14us/sample - loss: 649635660.4620 - val_loss: 655725740.8673\n",
      "Epoch 10/300\n",
      "9090/9090 [==============================] - 0s 14us/sample - loss: 627861928.5545 - val_loss: 627216140.9248\n",
      "Epoch 11/300\n",
      "9090/9090 [==============================] - 0s 15us/sample - loss: 592821863.0759 - val_loss: 583399472.7431\n",
      "Epoch 12/300\n",
      "9090/9090 [==============================] - 0s 13us/sample - loss: 541195631.3487 - val_loss: 521661090.3649\n",
      "Epoch 13/300\n",
      "9090/9090 [==============================] - 0s 16us/sample - loss: 471835360.3520 - val_loss: 442194217.1804\n",
      "Epoch 14/300\n",
      "9090/9090 [==============================] - 0s 13us/sample - loss: 387294694.2662 - val_loss: 350665451.6356\n",
      "Epoch 15/300\n",
      "9090/9090 [==============================] - 0s 15us/sample - loss: 296140388.9989 - val_loss: 258140451.3380\n",
      "Epoch 16/300\n",
      "9090/9090 [==============================] - 0s 15us/sample - loss: 211368054.9703 - val_loss: 180450321.6916\n",
      "Epoch 17/300\n",
      "9090/9090 [==============================] - 0s 14us/sample - loss: 147250981.8262 - val_loss: 128414073.4657\n",
      "Epoch 18/300\n",
      "9090/9090 [==============================] - 0s 13us/sample - loss: 110229878.9791 - val_loss: 102978630.2920\n",
      "Epoch 19/300\n",
      "9090/9090 [==============================] - 0s 15us/sample - loss: 94990292.2420 - val_loss: 94021223.9630\n",
      "Epoch 20/300\n",
      "9090/9090 [==============================] - 0s 14us/sample - loss: 90438164.4180 - val_loss: 91339573.6556\n",
      "Epoch 21/300\n",
      "9090/9090 [==============================] - 0s 14us/sample - loss: 89095742.4642 - val_loss: 90354314.0446\n",
      "Epoch 22/300\n",
      "9090/9090 [==============================] - 0s 14us/sample - loss: 88417372.1276 - val_loss: 89708957.8465\n",
      "Epoch 23/300\n",
      "9090/9090 [==============================] - 0s 13us/sample - loss: 87871240.4356 - val_loss: 89145385.8312\n",
      "Epoch 24/300\n",
      "9090/9090 [==============================] - 0s 15us/sample - loss: 87367973.7206 - val_loss: 88663414.3803\n",
      "Epoch 25/300\n",
      "9090/9090 [==============================] - 0s 15us/sample - loss: 86883612.1716 - val_loss: 88157003.1388\n",
      "Epoch 26/300\n",
      "9090/9090 [==============================] - 0s 15us/sample - loss: 86414214.9263 - val_loss: 87716487.8255\n",
      "Epoch 27/300\n",
      "9090/9090 [==============================] - 0s 14us/sample - loss: 85953872.4708 - val_loss: 87260863.9405\n",
      "Epoch 28/300\n",
      "9090/9090 [==============================] - 0s 14us/sample - loss: 85510000.8933 - val_loss: 86822188.0277\n",
      "Epoch 29/300\n",
      "9090/9090 [==============================] - 0s 14us/sample - loss: 85073126.4906 - val_loss: 86372704.5625\n",
      "Epoch 30/300\n",
      "9090/9090 [==============================] - 0s 14us/sample - loss: 84644667.1331 - val_loss: 85937909.0952\n",
      "Epoch 31/300\n",
      "9090/9090 [==============================] - 0s 15us/sample - loss: 84219683.0187 - val_loss: 85533408.9546\n",
      "Epoch 32/300\n",
      "9090/9090 [==============================] - 0s 13us/sample - loss: 83792943.3311 - val_loss: 85129985.0921\n",
      "Epoch 33/300\n",
      "9090/9090 [==============================] - 0s 14us/sample - loss: 83387436.5941 - val_loss: 84701536.0944\n",
      "Epoch 34/300\n",
      "9090/9090 [==============================] - 0s 15us/sample - loss: 82958366.7767 - val_loss: 84297351.6182\n",
      "Epoch 35/300\n",
      "9090/9090 [==============================] - 0s 15us/sample - loss: 82545948.3300 - val_loss: 83887422.1832\n",
      "Epoch 36/300\n",
      "9090/9090 [==============================] - 0s 14us/sample - loss: 82139780.5281 - val_loss: 83472600.6939\n",
      "Epoch 37/300\n",
      "9090/9090 [==============================] - 0s 14us/sample - loss: 81728327.7360 - val_loss: 83082797.0131\n",
      "Epoch 38/300\n",
      "9090/9090 [==============================] - 0s 14us/sample - loss: 81322606.2002 - val_loss: 82655620.8653\n",
      "Epoch 39/300\n",
      "9090/9090 [==============================] - 0s 14us/sample - loss: 80919453.8042 - val_loss: 82259200.0534\n",
      "Epoch 40/300\n",
      "9090/9090 [==============================] - 0s 18us/sample - loss: 80511818.0066 - val_loss: 81877359.6880\n",
      "Epoch 41/300\n",
      "9090/9090 [==============================] - 0s 15us/sample - loss: 80112495.1111 - val_loss: 81453209.9235\n",
      "Epoch 42/300\n",
      "9090/9090 [==============================] - 0s 17us/sample - loss: 79611580.5545 - val_loss: 80811794.5846\n",
      "Epoch 43/300\n",
      "9090/9090 [==============================] - 0s 14us/sample - loss: 78983995.5556 - val_loss: 80217368.5132\n",
      "Epoch 44/300\n",
      "9090/9090 [==============================] - 0s 19us/sample - loss: 78343699.8768 - val_loss: 79572845.3518\n",
      "Epoch 45/300\n",
      "9090/9090 [==============================] - 0s 17us/sample - loss: 77686409.1485 - val_loss: 78921513.1558\n",
      "Epoch 46/300\n",
      "9090/9090 [==============================] - 0s 16us/sample - loss: 77020299.4939 - val_loss: 78276729.9790\n",
      "Epoch 47/300\n",
      "9090/9090 [==============================] - 0s 18us/sample - loss: 76387926.5215 - val_loss: 77589929.1640\n",
      "Epoch 48/300\n",
      "9090/9090 [==============================] - 0s 18us/sample - loss: 75692773.8174 - val_loss: 76907504.6877\n",
      "Epoch 49/300\n",
      "9090/9090 [==============================] - 0s 17us/sample - loss: 74995295.5468 - val_loss: 76259943.7270\n",
      "Epoch 50/300\n",
      "9090/9090 [==============================] - 0s 16us/sample - loss: 74292652.3960 - val_loss: 75550791.7331\n",
      "Epoch 51/300\n",
      "9090/9090 [==============================] - 0s 14us/sample - loss: 73587106.9835 - val_loss: 74827371.1265\n",
      "Epoch 52/300\n",
      "9090/9090 [==============================] - 0s 17us/sample - loss: 72873147.3971 - val_loss: 74158032.6282\n",
      "Epoch 53/300\n",
      "9090/9090 [==============================] - 0s 27us/sample - loss: 72165053.7558 - val_loss: 73433823.1060\n",
      "Epoch 54/300\n",
      "9090/9090 [==============================] - 0s 21us/sample - loss: 71439975.2475 - val_loss: 72705346.3926\n",
      "Epoch 55/300\n",
      "9090/9090 [==============================] - 0s 16us/sample - loss: 70714020.9681 - val_loss: 71977789.3477\n",
      "Epoch 56/300\n",
      "9090/9090 [==============================] - 0s 14us/sample - loss: 69981568.1100 - val_loss: 71268133.3056\n",
      "Epoch 57/300\n",
      "9090/9090 [==============================] - 0s 27us/sample - loss: 69254127.8724 - val_loss: 70550569.5171\n",
      "Epoch 58/300\n",
      "9090/9090 [==============================] - 0s 27us/sample - loss: 68514976.7613 - val_loss: 69795583.9692\n",
      "Epoch 59/300\n",
      "9090/9090 [==============================] - 0s 23us/sample - loss: 67772672.7217 - val_loss: 69078259.9446\n",
      "Epoch 60/300\n",
      "9090/9090 [==============================] - 0s 16us/sample - loss: 67061831.6700 - val_loss: 68383606.1617\n",
      "Epoch 61/300\n",
      "9090/9090 [==============================] - 0s 19us/sample - loss: 66300199.9692 - val_loss: 67593207.9713\n",
      "Epoch 62/300\n",
      "9090/9090 [==============================] - 0s 21us/sample - loss: 65563908.0616 - val_loss: 66889922.8699\n",
      "Epoch 63/300\n",
      "9090/9090 [==============================] - 0s 31us/sample - loss: 64829567.1683 - val_loss: 66127066.8576\n",
      "Epoch 64/300\n",
      "9090/9090 [==============================] - 0s 28us/sample - loss: 64083984.2728 - val_loss: 65412301.9851\n",
      "Epoch 65/300\n",
      "9090/9090 [==============================] - 0s 25us/sample - loss: 63340936.6777 - val_loss: 64713126.4090\n",
      "Epoch 66/300\n",
      "9090/9090 [==============================] - 0s 23us/sample - loss: 62592766.4950 - val_loss: 63943818.4439\n",
      "Epoch 67/300\n",
      "9090/9090 [==============================] - 0s 25us/sample - loss: 61832474.2530 - val_loss: 63159427.5668\n",
      "Epoch 68/300\n"
     ]
    },
    {
     "name": "stdout",
     "output_type": "stream",
     "text": [
      "9090/9090 [==============================] - 0s 22us/sample - loss: 61100207.8152 - val_loss: 62459839.7998\n",
      "Epoch 69/300\n",
      "9090/9090 [==============================] - 0s 19us/sample - loss: 60311238.1958 - val_loss: 61648866.1996\n",
      "Epoch 70/300\n",
      "9090/9090 [==============================] - 0s 20us/sample - loss: 59566597.4125 - val_loss: 60935764.0349\n",
      "Epoch 71/300\n",
      "9090/9090 [==============================] - 0s 17us/sample - loss: 58800663.3751 - val_loss: 60145476.1570\n",
      "Epoch 72/300\n",
      "9090/9090 [==============================] - 0s 15us/sample - loss: 58034754.0066 - val_loss: 59396159.9579\n",
      "Epoch 73/300\n",
      "9090/9090 [==============================] - 0s 15us/sample - loss: 57270628.3916 - val_loss: 58616701.6351\n",
      "Epoch 74/300\n",
      "9090/9090 [==============================] - 0s 14us/sample - loss: 56515356.5237 - val_loss: 57881305.5756\n",
      "Epoch 75/300\n",
      "9090/9090 [==============================] - 0s 14us/sample - loss: 55731252.4180 - val_loss: 57059287.6336\n",
      "Epoch 76/300\n",
      "9090/9090 [==============================] - 0s 12us/sample - loss: 54958576.4796 - val_loss: 56308706.6892\n",
      "Epoch 77/300\n",
      "9090/9090 [==============================] - 0s 14us/sample - loss: 54191001.5842 - val_loss: 55523346.9787\n",
      "Epoch 78/300\n",
      "9090/9090 [==============================] - 0s 17us/sample - loss: 53416126.7789 - val_loss: 54769587.9015\n",
      "Epoch 79/300\n",
      "9090/9090 [==============================] - 0s 15us/sample - loss: 52635782.8647 - val_loss: 53964754.2099\n",
      "Epoch 80/300\n",
      "9090/9090 [==============================] - 0s 14us/sample - loss: 51873617.4257 - val_loss: 53196468.1057\n",
      "Epoch 81/300\n",
      "9090/9090 [==============================] - 0s 13us/sample - loss: 51075956.1716 - val_loss: 52403730.1976\n",
      "Epoch 82/300\n",
      "9090/9090 [==============================] - 0s 13us/sample - loss: 50285076.3696 - val_loss: 51611362.3823\n",
      "Epoch 83/300\n",
      "9090/9090 [==============================] - 0s 13us/sample - loss: 49503135.8944 - val_loss: 50847952.7298\n",
      "Epoch 84/300\n",
      "9090/9090 [==============================] - 0s 15us/sample - loss: 48728176.4752 - val_loss: 50018563.6849\n",
      "Epoch 85/300\n",
      "9090/9090 [==============================] - 0s 14us/sample - loss: 47910106.4246 - val_loss: 49233156.0647\n",
      "Epoch 86/300\n",
      "9090/9090 [==============================] - 0s 17us/sample - loss: 47117862.9131 - val_loss: 48422348.6302\n",
      "Epoch 87/300\n",
      "9090/9090 [==============================] - 0s 14us/sample - loss: 46319237.6414 - val_loss: 47610706.5343\n",
      "Epoch 88/300\n",
      "9090/9090 [==============================] - 0s 13us/sample - loss: 45520506.3938 - val_loss: 46793434.4337\n",
      "Epoch 89/300\n",
      "9090/9090 [==============================] - 0s 17us/sample - loss: 44721685.3641 - val_loss: 46003593.3610\n",
      "Epoch 90/300\n",
      "9090/9090 [==============================] - 0s 18us/sample - loss: 43925797.2915 - val_loss: 45185435.5396\n",
      "Epoch 91/300\n",
      "9090/9090 [==============================] - 0s 19us/sample - loss: 43140188.1606 - val_loss: 44397390.4111\n",
      "Epoch 92/300\n",
      "9090/9090 [==============================] - 0s 18us/sample - loss: 42372912.8361 - val_loss: 43596859.8245\n",
      "Epoch 93/300\n",
      "9090/9090 [==============================] - 0s 17us/sample - loss: 41569934.8097 - val_loss: 42818926.0277\n",
      "Epoch 94/300\n",
      "9090/9090 [==============================] - 0s 19us/sample - loss: 40808902.5523 - val_loss: 42067535.7157\n",
      "Epoch 95/300\n",
      "9090/9090 [==============================] - 0s 18us/sample - loss: 40051946.2992 - val_loss: 41231413.6962\n",
      "Epoch 96/300\n",
      "9090/9090 [==============================] - 0s 14us/sample - loss: 39272826.5457 - val_loss: 40471454.1314\n",
      "Epoch 97/300\n",
      "9090/9090 [==============================] - 0s 16us/sample - loss: 38534926.8559 - val_loss: 39709083.9086\n",
      "Epoch 98/300\n",
      "9090/9090 [==============================] - 0s 17us/sample - loss: 37797195.2541 - val_loss: 38958626.8637\n",
      "Epoch 99/300\n",
      "9090/9090 [==============================] - 0s 17us/sample - loss: 37072205.9252 - val_loss: 38215320.9838\n",
      "Epoch 100/300\n",
      "9090/9090 [==============================] - 0s 15us/sample - loss: 36350135.5666 - val_loss: 37523607.1552\n",
      "Epoch 101/300\n",
      "9090/9090 [==============================] - 0s 14us/sample - loss: 35649480.6403 - val_loss: 36794408.1093\n",
      "Epoch 102/300\n",
      "9090/9090 [==============================] - 0s 25us/sample - loss: 34977861.2827 - val_loss: 36131194.4958\n",
      "Epoch 103/300\n",
      "9090/9090 [==============================] - 0s 22us/sample - loss: 34310864.9439 - val_loss: 35468348.2002\n",
      "Epoch 104/300\n",
      "9090/9090 [==============================] - 0s 21us/sample - loss: 33661842.5281 - val_loss: 34779904.1673\n",
      "Epoch 105/300\n",
      "9090/9090 [==============================] - 0s 22us/sample - loss: 33020762.6733 - val_loss: 34148410.3018\n",
      "Epoch 106/300\n",
      "9090/9090 [==============================] - 0s 16us/sample - loss: 32418141.5094 - val_loss: 33543813.6048\n",
      "Epoch 107/300\n",
      "9090/9090 [==============================] - ETA: 0s - loss: 31840404.44 - 0s 19us/sample - loss: 31804426.2222 - val_loss: 32974671.4945\n",
      "Epoch 108/300\n",
      "9090/9090 [==============================] - 0s 20us/sample - loss: 31263202.1518 - val_loss: 32365727.3723\n",
      "Epoch 109/300\n",
      "9090/9090 [==============================] - 0s 17us/sample - loss: 30684165.9780 - val_loss: 31812418.2520\n",
      "Epoch 110/300\n",
      "9090/9090 [==============================] - 0s 15us/sample - loss: 30163942.3168 - val_loss: 31280097.8850\n",
      "Epoch 111/300\n",
      "9090/9090 [==============================] - 0s 21us/sample - loss: 29647923.7426 - val_loss: 30780470.6482\n",
      "Epoch 112/300\n",
      "9090/9090 [==============================] - 0s 22us/sample - loss: 29156274.0484 - val_loss: 30288730.8057\n",
      "Epoch 113/300\n",
      "9090/9090 [==============================] - 0s 21us/sample - loss: 28699734.7415 - val_loss: 29833459.3821\n",
      "Epoch 114/300\n",
      "9090/9090 [==============================] - 0s 21us/sample - loss: 28238666.4906 - val_loss: 29384620.2823\n",
      "Epoch 115/300\n",
      "9090/9090 [==============================] - 0s 20us/sample - loss: 27818111.2761 - val_loss: 29008533.6284\n",
      "Epoch 116/300\n",
      "9090/9090 [==============================] - 0s 16us/sample - loss: 27424565.9428 - val_loss: 28605043.5653\n",
      "Epoch 117/300\n",
      "9090/9090 [==============================] - 0s 16us/sample - loss: 27034135.0715 - val_loss: 28205336.9310\n",
      "Epoch 118/300\n",
      "9090/9090 [==============================] - 0s 19us/sample - loss: 26664142.4994 - val_loss: 27877413.3457\n",
      "Epoch 119/300\n",
      "9090/9090 [==============================] - 0s 15us/sample - loss: 26323623.4719 - val_loss: 27519803.2456\n",
      "Epoch 120/300\n",
      "9090/9090 [==============================] - 0s 14us/sample - loss: 25981538.4389 - val_loss: 27187098.6513\n",
      "Epoch 121/300\n",
      "9090/9090 [==============================] - 0s 12us/sample - loss: 25658213.4147 - val_loss: 26881402.4072\n",
      "Epoch 122/300\n",
      "9090/9090 [==============================] - 0s 13us/sample - loss: 25355547.1749 - val_loss: 26601046.0339\n",
      "Epoch 123/300\n",
      "9090/9090 [==============================] - 0s 14us/sample - loss: 25074330.5501 - val_loss: 26323944.9795\n",
      "Epoch 124/300\n",
      "9090/9090 [==============================] - 0s 21us/sample - loss: 24814812.6810 - val_loss: 26077143.9323\n",
      "Epoch 125/300\n",
      "9090/9090 [==============================] - 0s 23us/sample - loss: 24551734.9307 - val_loss: 25839994.8317\n",
      "Epoch 126/300\n",
      "9090/9090 [==============================] - 0s 31us/sample - loss: 24310360.5699 - val_loss: 25622070.6903\n",
      "Epoch 127/300\n",
      "9090/9090 [==============================] - 0s 32us/sample - loss: 24101657.3663 - val_loss: 25407375.5668\n",
      "Epoch 128/300\n",
      "9090/9090 [==============================] - 0s 15us/sample - loss: 23889771.4829 - val_loss: 25218971.9435\n",
      "Epoch 129/300\n",
      "9090/9090 [==============================] - 0s 16us/sample - loss: 23677291.1364 - val_loss: 25050361.2787\n",
      "Epoch 130/300\n",
      "9090/9090 [==============================] - 0s 16us/sample - loss: 23504680.8581 - val_loss: 24901800.2227\n",
      "Epoch 131/300\n",
      "9090/9090 [==============================] - 0s 12us/sample - loss: 23344337.9879 - val_loss: 24714362.2869\n",
      "Epoch 132/300\n",
      "9090/9090 [==============================] - 0s 13us/sample - loss: 23194466.4532 - val_loss: 24559118.7768\n",
      "Epoch 133/300\n",
      "9090/9090 [==============================] - 0s 22us/sample - loss: 23041609.5369 - val_loss: 24427917.5758\n",
      "Epoch 134/300\n",
      "9090/9090 [==============================] - 0s 21us/sample - loss: 22911699.4598 - val_loss: 24288953.6230\n",
      "Epoch 135/300\n",
      "9090/9090 [==============================] - 0s 16us/sample - loss: 22760465.6073 - val_loss: 24173379.6459\n",
      "Epoch 136/300\n",
      "9090/9090 [==============================] - 0s 16us/sample - loss: 22667664.8009 - val_loss: 24080766.0064\n",
      "Epoch 137/300\n",
      "9090/9090 [==============================] - 0s 16us/sample - loss: 22578081.8856 - val_loss: 23946951.5099\n",
      "Epoch 138/300\n",
      "9090/9090 [==============================] - 0s 16us/sample - loss: 22417288.8790 - val_loss: 23854857.1917\n",
      "Epoch 139/300\n",
      "9090/9090 [==============================] - 0s 14us/sample - loss: 22326641.6821 - val_loss: 23752837.9820\n",
      "Epoch 140/300\n",
      "9090/9090 [==============================] - 0s 12us/sample - loss: 22220822.5347 - val_loss: 23652626.0044\n",
      "Epoch 141/300\n",
      "9090/9090 [==============================] - 0s 12us/sample - loss: 22113986.6579 - val_loss: 23582813.5725\n",
      "Epoch 142/300\n",
      "9090/9090 [==============================] - 0s 10us/sample - loss: 22045757.0539 - val_loss: 23469628.5817\n",
      "Epoch 143/300\n",
      "9090/9090 [==============================] - 0s 12us/sample - loss: 21966804.9967 - val_loss: 23392665.0675\n",
      "Epoch 144/300\n",
      "9090/9090 [==============================] - 0s 12us/sample - loss: 21863363.2134 - val_loss: 23321086.9651\n",
      "Epoch 145/300\n",
      "9090/9090 [==============================] - 0s 12us/sample - loss: 21792871.8262 - val_loss: 23280444.6664\n",
      "Epoch 146/300\n",
      "9090/9090 [==============================] - 0s 14us/sample - loss: 21725112.9285 - val_loss: 23180445.4083\n",
      "Epoch 147/300\n",
      "9090/9090 [==============================] - 0s 12us/sample - loss: 21667165.5413 - val_loss: 23161260.4480\n",
      "Epoch 148/300\n",
      "9090/9090 [==============================] - 0s 13us/sample - loss: 21598436.8031 - val_loss: 23044675.5656\n",
      "Epoch 149/300\n",
      "9090/9090 [==============================] - 0s 18us/sample - loss: 21532104.4873 - val_loss: 23028314.0198\n",
      "Epoch 150/300\n",
      "9090/9090 [==============================] - 0s 14us/sample - loss: 21473696.5655 - val_loss: 22956164.6646\n",
      "Epoch 151/300\n",
      "9090/9090 [==============================] - 0s 12us/sample - loss: 21494945.6700 - val_loss: 22880040.3995\n",
      "Epoch 152/300\n",
      "9090/9090 [==============================] - 0s 12us/sample - loss: 21376847.0814 - val_loss: 22837108.3177\n",
      "Epoch 153/300\n",
      "9090/9090 [==============================] - 0s 22us/sample - loss: 21344321.8009 - val_loss: 22796558.6302\n",
      "Epoch 154/300\n",
      "9090/9090 [==============================] - 0s 13us/sample - loss: 21328576.4521 - val_loss: 22738928.4906\n",
      "Epoch 155/300\n",
      "9090/9090 [==============================] - 0s 16us/sample - loss: 21244230.4378 - val_loss: 22686140.5255\n",
      "Epoch 156/300\n",
      "9090/9090 [==============================] - 0s 16us/sample - loss: 21205051.2167 - val_loss: 22651463.5961\n",
      "Epoch 157/300\n",
      "9090/9090 [==============================] - 0s 14us/sample - loss: 21154939.3696 - val_loss: 22645152.5322\n",
      "Epoch 158/300\n",
      "9090/9090 [==============================] - 0s 14us/sample - loss: 21123954.8856 - val_loss: 22572845.7395\n",
      "Epoch 159/300\n",
      "9090/9090 [==============================] - 0s 19us/sample - loss: 21080487.7657 - val_loss: 22557162.1750\n",
      "Epoch 160/300\n",
      "9090/9090 [==============================] - 0s 13us/sample - loss: 21049966.8427 - val_loss: 22510598.7021\n",
      "Epoch 161/300\n",
      "9090/9090 [==============================] - 0s 15us/sample - loss: 21012622.3916 - val_loss: 22469981.5507\n",
      "Epoch 162/300\n",
      "9090/9090 [==============================] - 0s 20us/sample - loss: 20982026.9736 - val_loss: 22513267.1016\n",
      "Epoch 163/300\n",
      "9090/9090 [==============================] - 0s 20us/sample - loss: 20938472.5094 - val_loss: 22405082.3998\n",
      "Epoch 164/300\n",
      "9090/9090 [==============================] - 0s 15us/sample - loss: 20902419.3344 - val_loss: 22397423.3282\n",
      "Epoch 165/300\n",
      "9090/9090 [==============================] - 0s 14us/sample - loss: 20881923.5809 - val_loss: 22346327.7675\n",
      "Epoch 166/300\n",
      "9090/9090 [==============================] - 0s 14us/sample - loss: 20833159.2640 - val_loss: 22319619.1296\n",
      "Epoch 167/300\n",
      "9090/9090 [==============================] - 0s 15us/sample - loss: 20813119.0638 - val_loss: 22328334.1629\n",
      "Epoch 168/300\n",
      "9090/9090 [==============================] - 0s 18us/sample - loss: 20802688.1595 - val_loss: 22274790.3880\n",
      "Epoch 169/300\n",
      "9090/9090 [==============================] - 0s 16us/sample - loss: 20754951.4345 - val_loss: 22251427.0654\n",
      "Epoch 170/300\n",
      "9090/9090 [==============================] - 0s 15us/sample - loss: 20713280.7712 - val_loss: 22239400.2833\n",
      "Epoch 171/300\n",
      "9090/9090 [==============================] - 0s 18us/sample - loss: 20695000.1815 - val_loss: 22228838.3687\n",
      "Epoch 172/300\n",
      "9090/9090 [==============================] - 0s 13us/sample - loss: 20698693.6095 - val_loss: 22201203.8217\n",
      "Epoch 173/300\n",
      "9090/9090 [==============================] - 0s 14us/sample - loss: 20656672.7778 - val_loss: 22181522.9228\n",
      "Epoch 174/300\n",
      "9090/9090 [==============================] - 0s 16us/sample - loss: 20603579.9714 - val_loss: 22208719.1552\n",
      "Epoch 175/300\n",
      "9090/9090 [==============================] - 0s 13us/sample - loss: 20631086.1529 - val_loss: 22161301.4383\n",
      "Epoch 176/300\n",
      "9090/9090 [==============================] - 0s 12us/sample - loss: 20584927.4840 - val_loss: 22132702.0772\n",
      "Epoch 177/300\n",
      "9090/9090 [==============================] - 0s 12us/sample - loss: 20548672.4279 - val_loss: 22110386.2353\n",
      "Epoch 178/300\n",
      "9090/9090 [==============================] - 0s 15us/sample - loss: 20528852.1210 - val_loss: 22093462.9638\n",
      "Epoch 179/300\n",
      "9090/9090 [==============================] - 0s 13us/sample - loss: 20537595.2904 - val_loss: 22140171.9561\n",
      "Epoch 180/300\n",
      "9090/9090 [==============================] - 0s 16us/sample - loss: 20510767.4807 - val_loss: 22050074.0893\n",
      "Epoch 181/300\n",
      "9090/9090 [==============================] - 0s 14us/sample - loss: 20470125.3883 - val_loss: 22031253.3192\n",
      "Epoch 182/300\n",
      "9090/9090 [==============================] - 0s 13us/sample - loss: 20440551.1287 - val_loss: 22016467.7603\n",
      "Epoch 183/300\n",
      "9090/9090 [==============================] - 0s 15us/sample - loss: 20427261.4598 - val_loss: 22052024.4442\n",
      "Epoch 184/300\n",
      "9090/9090 [==============================] - 0s 13us/sample - loss: 20413164.8416 - val_loss: 21987072.0128\n",
      "Epoch 185/300\n",
      "9090/9090 [==============================] - 0s 13us/sample - loss: 20408260.8163 - val_loss: 21950196.6772\n",
      "Epoch 186/300\n",
      "9090/9090 [==============================] - 0s 13us/sample - loss: 20367224.0253 - val_loss: 21992432.3652\n",
      "Epoch 187/300\n",
      "9090/9090 [==============================] - 0s 13us/sample - loss: 20353213.8900 - val_loss: 21908867.8812\n",
      "Epoch 188/300\n",
      "9090/9090 [==============================] - 0s 13us/sample - loss: 20307152.8009 - val_loss: 21905850.2235\n",
      "Epoch 189/300\n",
      "9090/9090 [==============================] - 0s 13us/sample - loss: 20288020.3157 - val_loss: 21856627.8242\n",
      "Epoch 190/300\n",
      "9090/9090 [==============================] - 0s 13us/sample - loss: 20262075.1881 - val_loss: 21832707.0239\n",
      "Epoch 191/300\n",
      "9090/9090 [==============================] - 0s 15us/sample - loss: 20236503.7943 - val_loss: 21824553.2120\n",
      "Epoch 192/300\n",
      "9090/9090 [==============================] - 0s 16us/sample - loss: 20259029.9912 - val_loss: 21785529.5815\n",
      "Epoch 193/300\n",
      "9090/9090 [==============================] - 0s 17us/sample - loss: 20217883.5985 - val_loss: 21759564.9851\n",
      "Epoch 194/300\n",
      "9090/9090 [==============================] - 0s 15us/sample - loss: 20210789.8977 - val_loss: 21745157.9271\n",
      "Epoch 195/300\n",
      "9090/9090 [==============================] - 0s 15us/sample - loss: 20159042.8306 - val_loss: 21713191.6005\n",
      "Epoch 196/300\n",
      "9090/9090 [==============================] - 0s 15us/sample - loss: 20147456.3751 - val_loss: 21697660.7860\n",
      "Epoch 197/300\n",
      "9090/9090 [==============================] - 0s 22us/sample - loss: 20138454.2607 - val_loss: 21677059.3677\n",
      "Epoch 198/300\n",
      "9090/9090 [==============================] - 0s 23us/sample - loss: 20119694.2519 - val_loss: 21663042.8073\n",
      "Epoch 199/300\n",
      "9090/9090 [==============================] - 0s 19us/sample - loss: 20082526.3168 - val_loss: 21635124.6900\n",
      "Epoch 200/300\n",
      "9090/9090 [==============================] - 0s 19us/sample - loss: 20064012.9527 - val_loss: 21618138.5933\n",
      "Epoch 201/300\n",
      "9090/9090 [==============================] - 0s 19us/sample - loss: 20057623.8020 - val_loss: 21613703.5065\n",
      "Epoch 202/300\n"
     ]
    },
    {
     "name": "stdout",
     "output_type": "stream",
     "text": [
      "9090/9090 [==============================] - 0s 16us/sample - loss: 20056381.4026 - val_loss: 21640825.5517\n",
      "Epoch 203/300\n",
      "9090/9090 [==============================] - 0s 14us/sample - loss: 20082037.3212 - val_loss: 21579762.4498\n",
      "Epoch 204/300\n",
      "9090/9090 [==============================] - 0s 13us/sample - loss: 20048682.6205 - val_loss: 21590759.6641\n",
      "Epoch 205/300\n",
      "9090/9090 [==============================] - 0s 14us/sample - loss: 20012704.8020 - val_loss: 21546594.1206\n",
      "Epoch 206/300\n",
      "9090/9090 [==============================] - 0s 15us/sample - loss: 20011022.1771 - val_loss: 21540356.9913\n",
      "Epoch 207/300\n",
      "9090/9090 [==============================] - 0s 11us/sample - loss: 19981697.8196 - val_loss: 21521879.6495\n",
      "Epoch 208/300\n",
      "9090/9090 [==============================] - 0s 11us/sample - loss: 19980535.8614 - val_loss: 21504978.3711\n",
      "Epoch 209/300\n",
      "9090/9090 [==============================] - 0s 12us/sample - loss: 19979100.1298 - val_loss: 21503395.2925\n",
      "Epoch 210/300\n",
      "9090/9090 [==============================] - 0s 13us/sample - loss: 19941036.8702 - val_loss: 21482954.6690\n",
      "Epoch 211/300\n",
      "9090/9090 [==============================] - 0s 11us/sample - loss: 19939995.0869 - val_loss: 21474125.7147\n",
      "Epoch 212/300\n",
      "9090/9090 [==============================] - 0s 12us/sample - loss: 19938699.3553 - val_loss: 21474383.5697\n",
      "Epoch 213/300\n",
      "9090/9090 [==============================] - 0s 12us/sample - loss: 19904237.7107 - val_loss: 21445919.4937\n",
      "Epoch 214/300\n",
      "9090/9090 [==============================] - 0s 12us/sample - loss: 19891507.0726 - val_loss: 21425923.7519\n",
      "Epoch 215/300\n",
      "9090/9090 [==============================] - 0s 12us/sample - loss: 19873710.9725 - val_loss: 21416595.6436\n",
      "Epoch 216/300\n",
      "9090/9090 [==============================] - 0s 12us/sample - loss: 19871572.3883 - val_loss: 21410774.3457\n",
      "Epoch 217/300\n",
      "9090/9090 [==============================] - 0s 12us/sample - loss: 19869583.5369 - val_loss: 21401473.3988\n",
      "Epoch 218/300\n",
      "9090/9090 [==============================] - 0s 12us/sample - loss: 19839111.4136 - val_loss: 21380913.7606\n",
      "Epoch 219/300\n",
      "9090/9090 [==============================] - 0s 13us/sample - loss: 19828397.1474 - val_loss: 21371734.1599\n",
      "Epoch 220/300\n",
      "9090/9090 [==============================] - 0s 12us/sample - loss: 19831055.8724 - val_loss: 21361395.7170\n",
      "Epoch 221/300\n",
      "9090/9090 [==============================] - 0s 11us/sample - loss: 19817320.0176 - val_loss: 21352530.3926\n",
      "Epoch 222/300\n",
      "9090/9090 [==============================] - 0s 10us/sample - loss: 19799199.7382 - val_loss: 21338267.2946\n",
      "Epoch 223/300\n",
      "9090/9090 [==============================] - 0s 12us/sample - loss: 19777255.1518 - val_loss: 21354212.0236\n",
      "Epoch 224/300\n",
      "9090/9090 [==============================] - 0s 12us/sample - loss: 19771375.3157 - val_loss: 21315691.5722\n",
      "Epoch 225/300\n",
      "9090/9090 [==============================] - 0s 15us/sample - loss: 19760962.4851 - val_loss: 21297458.9682\n",
      "Epoch 226/300\n",
      "9090/9090 [==============================] - 0s 15us/sample - loss: 19753538.2882 - val_loss: 21341368.8240\n",
      "Epoch 227/300\n",
      "9090/9090 [==============================] - 0s 15us/sample - loss: 19742151.1804 - val_loss: 21297292.2086\n",
      "Epoch 228/300\n",
      "9090/9090 [==============================] - 0s 13us/sample - loss: 19750982.2068 - val_loss: 21283833.9967\n",
      "Epoch 229/300\n",
      "9090/9090 [==============================] - 0s 13us/sample - loss: 19743653.0231 - val_loss: 21352571.0475\n",
      "Epoch 230/300\n",
      "9090/9090 [==============================] - 0s 12us/sample - loss: 19758563.5853 - val_loss: 21254694.7270\n",
      "Epoch 231/300\n",
      "9090/9090 [==============================] - 0s 14us/sample - loss: 19694708.2937 - val_loss: 21236090.2489\n",
      "Epoch 232/300\n",
      "9090/9090 [==============================] - 0s 12us/sample - loss: 19681289.9857 - val_loss: 21222437.0726\n",
      "Epoch 233/300\n",
      "9090/9090 [==============================] - 0s 12us/sample - loss: 19678588.4543 - val_loss: 21250540.5866\n",
      "Epoch 234/300\n",
      "9090/9090 [==============================] - 0s 10us/sample - loss: 19678236.2651 - val_loss: 21219385.0680\n",
      "Epoch 235/300\n",
      "9090/9090 [==============================] - 0s 12us/sample - loss: 19662314.4851 - val_loss: 21215555.4691\n",
      "Epoch 236/300\n",
      "9090/9090 [==============================] - 0s 13us/sample - loss: 19643407.8262 - val_loss: 21194210.2946\n",
      "Epoch 237/300\n",
      "9090/9090 [==============================] - 0s 12us/sample - loss: 19681245.0748 - val_loss: 21183418.1180\n",
      "Epoch 238/300\n",
      "9090/9090 [==============================] - 0s 13us/sample - loss: 19657220.4774 - val_loss: 21221997.7896\n",
      "Epoch 239/300\n",
      "9090/9090 [==============================] - 0s 12us/sample - loss: 19616746.9813 - val_loss: 21155504.5779\n",
      "Epoch 240/300\n",
      "9090/9090 [==============================] - 0s 14us/sample - loss: 19605025.3300 - val_loss: 21210151.3600\n",
      "Epoch 241/300\n",
      "9090/9090 [==============================] - 0s 12us/sample - loss: 19643000.0385 - val_loss: 21155790.7252\n",
      "Epoch 242/300\n",
      "9090/9090 [==============================] - 0s 12us/sample - loss: 19603540.0110 - val_loss: 21137313.8761\n",
      "Epoch 243/300\n",
      "9090/9090 [==============================] - 0s 12us/sample - loss: 19588710.8647 - val_loss: 21123326.9938\n",
      "Epoch 244/300\n",
      "9090/9090 [==============================] - 0s 15us/sample - loss: 19570209.9934 - val_loss: 21116703.8301\n",
      "Epoch 245/300\n",
      "9090/9090 [==============================] - 0s 13us/sample - loss: 19555991.1001 - val_loss: 21119771.1080\n",
      "Epoch 246/300\n",
      "9090/9090 [==============================] - 0s 15us/sample - loss: 19575986.0176 - val_loss: 21116618.5171\n",
      "Epoch 247/300\n",
      "9090/9090 [==============================] - 0s 13us/sample - loss: 19547703.1265 - val_loss: 21092218.1465\n",
      "Epoch 248/300\n",
      "9090/9090 [==============================] - 0s 14us/sample - loss: 19549884.3927 - val_loss: 21120338.8081\n",
      "Epoch 249/300\n",
      "9090/9090 [==============================] - 0s 14us/sample - loss: 19533086.2948 - val_loss: 21067292.8889\n",
      "Epoch 250/300\n",
      "9090/9090 [==============================] - 0s 17us/sample - loss: 19517374.0638 - val_loss: 21059896.1481\n",
      "Epoch 251/300\n",
      "9090/9090 [==============================] - 0s 14us/sample - loss: 19499091.6491 - val_loss: 21057391.4113\n",
      "Epoch 252/300\n",
      "9090/9090 [==============================] - 0s 12us/sample - loss: 19505126.9340 - val_loss: 21048351.8458\n",
      "Epoch 253/300\n",
      "9090/9090 [==============================] - 0s 17us/sample - loss: 19480452.2277 - val_loss: 21044997.4891\n",
      "Epoch 254/300\n",
      "9090/9090 [==============================] - 0s 15us/sample - loss: 19476829.6931 - val_loss: 21037360.5543\n",
      "Epoch 255/300\n",
      "9090/9090 [==============================] - 0s 12us/sample - loss: 19472761.2420 - val_loss: 21022350.2910\n",
      "Epoch 256/300\n",
      "9090/9090 [==============================] - 0s 14us/sample - loss: 19476343.7470 - val_loss: 21012421.0126\n",
      "Epoch 257/300\n",
      "9090/9090 [==============================] - 0s 15us/sample - loss: 19454054.2893 - val_loss: 21008219.8155\n",
      "Epoch 258/300\n",
      "9090/9090 [==============================] - 0s 12us/sample - loss: 19448905.1694 - val_loss: 21010201.1943\n",
      "Epoch 259/300\n",
      "9090/9090 [==============================] - 0s 14us/sample - loss: 19442288.4290 - val_loss: 21049429.0105\n",
      "Epoch 260/300\n",
      "9090/9090 [==============================] - 0s 13us/sample - loss: 19445021.2618 - val_loss: 20979900.3143\n",
      "Epoch 261/300\n",
      "9090/9090 [==============================] - 0s 15us/sample - loss: 19416906.2662 - val_loss: 20999443.4804\n",
      "Epoch 262/300\n",
      "9090/9090 [==============================] - 0s 12us/sample - loss: 19403321.1188 - val_loss: 20974327.8476\n",
      "Epoch 263/300\n",
      "9090/9090 [==============================] - 0s 12us/sample - loss: 19394843.4026 - val_loss: 20959835.0726\n",
      "Epoch 264/300\n",
      "9090/9090 [==============================] - 0s 12us/sample - loss: 19393454.7261 - val_loss: 20948950.7578\n",
      "Epoch 265/300\n",
      "9090/9090 [==============================] - 0s 14us/sample - loss: 19396439.9626 - val_loss: 20935063.3721\n",
      "Epoch 266/300\n",
      "9090/9090 [==============================] - 0s 17us/sample - loss: 19382308.9065 - val_loss: 20938193.6918\n",
      "Epoch 267/300\n",
      "9090/9090 [==============================] - 0s 14us/sample - loss: 19368503.1001 - val_loss: 20922181.8753\n",
      "Epoch 268/300\n",
      "9090/9090 [==============================] - 0s 14us/sample - loss: 19369388.9186 - val_loss: 20916715.2153\n",
      "Epoch 269/300\n",
      "9090/9090 [==============================] - 0s 15us/sample - loss: 19368435.1122 - val_loss: 20918466.6305\n",
      "Epoch 270/300\n",
      "9090/9090 [==============================] - 0s 15us/sample - loss: 19342884.8515 - val_loss: 20898760.9071\n",
      "Epoch 271/300\n",
      "9090/9090 [==============================] - 0s 12us/sample - loss: 19332367.1386 - val_loss: 20891968.2176\n",
      "Epoch 272/300\n",
      "9090/9090 [==============================] - 0s 15us/sample - loss: 19318720.5897 - val_loss: 20913901.8235\n",
      "Epoch 273/300\n",
      "9090/9090 [==============================] - 0s 14us/sample - loss: 19319216.9417 - val_loss: 20898617.0701\n",
      "Epoch 274/300\n",
      "9090/9090 [==============================] - 0s 12us/sample - loss: 19318665.8361 - val_loss: 20918914.2651\n",
      "Epoch 275/300\n",
      "9090/9090 [==============================] - 0s 14us/sample - loss: 19307123.8922 - val_loss: 20875811.8032\n",
      "Epoch 276/300\n",
      "9090/9090 [==============================] - 0s 15us/sample - loss: 19312896.1375 - val_loss: 20859740.4609\n",
      "Epoch 277/300\n",
      "9090/9090 [==============================] - ETA: 0s - loss: 18954337.42 - 0s 11us/sample - loss: 19283883.5875 - val_loss: 20890665.8250\n",
      "Epoch 278/300\n",
      "9090/9090 [==============================] - 0s 14us/sample - loss: 19298835.9769 - val_loss: 20852726.8648\n",
      "Epoch 279/300\n",
      "9090/9090 [==============================] - 0s 15us/sample - loss: 19306738.8922 - val_loss: 20834068.2653\n",
      "Epoch 280/300\n",
      "9090/9090 [==============================] - 0s 12us/sample - loss: 19288275.3289 - val_loss: 20871664.8573\n",
      "Epoch 281/300\n",
      "9090/9090 [==============================] - 0s 18us/sample - loss: 19291056.9483 - val_loss: 20837630.2379\n",
      "Epoch 282/300\n",
      "9090/9090 [==============================] - 0s 12us/sample - loss: 19291181.2805 - val_loss: 20892915.8950\n",
      "Epoch 283/300\n",
      "9090/9090 [==============================] - 0s 15us/sample - loss: 19248432.7954 - val_loss: 20813341.5815\n",
      "Epoch 284/300\n",
      "9090/9090 [==============================] - 0s 13us/sample - loss: 19242358.8416 - val_loss: 20810662.0783\n",
      "Epoch 285/300\n",
      "9090/9090 [==============================] - 0s 12us/sample - loss: 19226890.5600 - val_loss: 20802912.0033\n",
      "Epoch 286/300\n",
      "9090/9090 [==============================] - 0s 14us/sample - loss: 19221184.8999 - val_loss: 20792714.4018\n",
      "Epoch 287/300\n",
      "9090/9090 [==============================] - 0s 12us/sample - loss: 19208663.5457 - val_loss: 20820914.5866\n",
      "Epoch 288/300\n",
      "9090/9090 [==============================] - 0s 12us/sample - loss: 19243479.2310 - val_loss: 20789742.2199\n",
      "Epoch 289/300\n",
      "9090/9090 [==============================] - 0s 14us/sample - loss: 19242985.6370 - val_loss: 20842507.5409\n",
      "Epoch 290/300\n",
      "9090/9090 [==============================] - 0s 12us/sample - loss: 19212625.2596 - val_loss: 20757506.3572\n",
      "Epoch 291/300\n",
      "9090/9090 [==============================] - 0s 14us/sample - loss: 19212897.9758 - val_loss: 20759543.3931\n",
      "Epoch 292/300\n",
      "9090/9090 [==============================] - 0s 14us/sample - loss: 19190688.0737 - val_loss: 20753003.7280\n",
      "Epoch 293/300\n",
      "9090/9090 [==============================] - 0s 13us/sample - loss: 19178726.3641 - val_loss: 20762480.0349\n",
      "Epoch 294/300\n",
      "9090/9090 [==============================] - 0s 11us/sample - loss: 19178117.2618 - val_loss: 20732072.6256\n",
      "Epoch 295/300\n",
      "9090/9090 [==============================] - 0s 12us/sample - loss: 19183250.9131 - val_loss: 20730310.6464\n",
      "Epoch 296/300\n",
      "9090/9090 [==============================] - 0s 12us/sample - loss: 19175987.6414 - val_loss: 20727272.9569\n",
      "Epoch 297/300\n",
      "9090/9090 [==============================] - 0s 12us/sample - loss: 19159764.3828 - val_loss: 20716024.0362\n",
      "Epoch 298/300\n",
      "9090/9090 [==============================] - 0s 12us/sample - loss: 19145671.2101 - val_loss: 20711028.2702\n",
      "Epoch 299/300\n",
      "9090/9090 [==============================] - 0s 14us/sample - loss: 19159561.3817 - val_loss: 20719446.0795\n",
      "Epoch 300/300\n",
      "9090/9090 [==============================] - 0s 14us/sample - loss: 19167250.1650 - val_loss: 20718903.7462\n"
     ]
    },
    {
     "data": {
      "text/plain": [
       "<tensorflow.python.keras.callbacks.History at 0x1a320e85ac8>"
      ]
     },
     "execution_count": 62,
     "metadata": {},
     "output_type": "execute_result"
    }
   ],
   "source": [
    "model.fit(x = x_train, y = y_train, validation_data=(x_test, y_test), batch_size = 250, epochs = 300)\n",
    "\n",
    "#validation_data, doğrulama verisi anlamındadır.\n",
    "#Testlerimizi de vererek ne kadar kayıp (hata) olduğunu da öğrenebiliriz.\n",
    "\n",
    "#batch_size, modele kaçar kaçar öğrenme verisi gönderileceğini belirtir.\n",
    "#9090 tane eğitim verisini bir anda modele vermek modeli yoracaktır. O yüzden azar azar verilmelidir.\n",
    "#Burada 250'şer olarak veri verilmesi tercih edildi.\n",
    "#Verinin çokluğuna göre bu değer karar verilir veya hiç yazılmaz. Çok düşük yazıldığında da çok uzun sürecektir."
   ]
  },
  {
   "cell_type": "markdown",
   "metadata": {},
   "source": [
    "## 8.20_Sonuçları Değerlendirmek"
   ]
  },
  {
   "cell_type": "code",
   "execution_count": 63,
   "metadata": {},
   "outputs": [],
   "source": [
    "#Adım 6:\n",
    "\n",
    "#loss'lar incelenir."
   ]
  },
  {
   "cell_type": "code",
   "execution_count": 64,
   "metadata": {},
   "outputs": [],
   "source": [
    "kayipVerisi = pd.DataFrame(model.history.history)"
   ]
  },
  {
   "cell_type": "code",
   "execution_count": 65,
   "metadata": {},
   "outputs": [
    {
     "data": {
      "text/html": [
       "<div>\n",
       "<style scoped>\n",
       "    .dataframe tbody tr th:only-of-type {\n",
       "        vertical-align: middle;\n",
       "    }\n",
       "\n",
       "    .dataframe tbody tr th {\n",
       "        vertical-align: top;\n",
       "    }\n",
       "\n",
       "    .dataframe thead th {\n",
       "        text-align: right;\n",
       "    }\n",
       "</style>\n",
       "<table border=\"1\" class=\"dataframe\">\n",
       "  <thead>\n",
       "    <tr style=\"text-align: right;\">\n",
       "      <th></th>\n",
       "      <th>loss</th>\n",
       "      <th>val_loss</th>\n",
       "    </tr>\n",
       "  </thead>\n",
       "  <tbody>\n",
       "    <tr>\n",
       "      <th>0</th>\n",
       "      <td>6.721508e+08</td>\n",
       "      <td>6.881121e+08</td>\n",
       "    </tr>\n",
       "    <tr>\n",
       "      <th>1</th>\n",
       "      <td>6.721409e+08</td>\n",
       "      <td>6.880982e+08</td>\n",
       "    </tr>\n",
       "    <tr>\n",
       "      <th>2</th>\n",
       "      <td>6.721139e+08</td>\n",
       "      <td>6.880472e+08</td>\n",
       "    </tr>\n",
       "    <tr>\n",
       "      <th>3</th>\n",
       "      <td>6.720175e+08</td>\n",
       "      <td>6.878753e+08</td>\n",
       "    </tr>\n",
       "    <tr>\n",
       "      <th>4</th>\n",
       "      <td>6.717058e+08</td>\n",
       "      <td>6.873230e+08</td>\n",
       "    </tr>\n",
       "  </tbody>\n",
       "</table>\n",
       "</div>"
      ],
      "text/plain": [
       "           loss      val_loss\n",
       "0  6.721508e+08  6.881121e+08\n",
       "1  6.721409e+08  6.880982e+08\n",
       "2  6.721139e+08  6.880472e+08\n",
       "3  6.720175e+08  6.878753e+08\n",
       "4  6.717058e+08  6.873230e+08"
      ]
     },
     "execution_count": 65,
     "metadata": {},
     "output_type": "execute_result"
    }
   ],
   "source": [
    "kayipVerisi.head()"
   ]
  },
  {
   "cell_type": "code",
   "execution_count": 66,
   "metadata": {},
   "outputs": [
    {
     "data": {
      "text/plain": [
       "<AxesSubplot:>"
      ]
     },
     "execution_count": 66,
     "metadata": {},
     "output_type": "execute_result"
    },
    {
     "data": {
      "image/png": "[encoded data removed]",
      "text/plain": [
       "<Figure size 432x288 with 1 Axes>"
      ]
     },
     "metadata": {
      "needs_background": "light"
     },
     "output_type": "display_data"
    }
   ],
   "source": [
    "kayipVerisi.plot()"
   ]
  },
  {
   "cell_type": "code",
   "execution_count": 67,
   "metadata": {},
   "outputs": [],
   "source": [
    "#İki çizginin de beraber ilerlemesi iyiye işarettir."
   ]
  },
  {
   "cell_type": "code",
   "execution_count": 68,
   "metadata": {},
   "outputs": [],
   "source": [
    "#Adım 7:\n",
    "\n",
    "#Modele x_test'leri vererek y'ler tahmin edilir."
   ]
  },
  {
   "cell_type": "code",
   "execution_count": 69,
   "metadata": {},
   "outputs": [],
   "source": [
    "from sklearn.metrics import mean_squared_error, mean_absolute_error"
   ]
  },
  {
   "cell_type": "code",
   "execution_count": 70,
   "metadata": {},
   "outputs": [],
   "source": [
    "tahminDizisi = model.predict(x_test)"
   ]
  },
  {
   "cell_type": "code",
   "execution_count": 71,
   "metadata": {},
   "outputs": [
    {
     "data": {
      "text/plain": [
       "array([[22323.191],\n",
       "       [23648.389],\n",
       "       [25086.703],\n",
       "       ...,\n",
       "       [26269.977],\n",
       "       [13013.193],\n",
       "       [24771.004]], dtype=float32)"
      ]
     },
     "execution_count": 71,
     "metadata": {},
     "output_type": "execute_result"
    }
   ],
   "source": [
    "tahminDizisi"
   ]
  },
  {
   "cell_type": "code",
   "execution_count": 72,
   "metadata": {},
   "outputs": [],
   "source": [
    "#Adım 8:\n",
    "\n",
    "#Hatalar incelenir."
   ]
  },
  {
   "cell_type": "code",
   "execution_count": 73,
   "metadata": {},
   "outputs": [
    {
     "data": {
      "text/plain": [
       "3221.0919408409113"
      ]
     },
     "execution_count": 73,
     "metadata": {},
     "output_type": "execute_result"
    }
   ],
   "source": [
    "mean_absolute_error(y_test, tahminDizisi)"
   ]
  },
  {
   "cell_type": "code",
   "execution_count": 74,
   "metadata": {},
   "outputs": [],
   "source": [
    "#Gerçek fiyat ile tahmin fiyatı arasındaki ortalama hata (sapma) hesaplandı.\n",
    "#Bu hatanın kabul edilebilir olup olmadığının kararını veri ile uğraşan kişi verir.\n",
    "\n",
    "#Eğer model beğenilmezse veya daha iyi sonuçlar elde edilmek isteniyorsa şunlar değiştirilebilir:\n",
    "\n",
    "# 1-Daha fazla veri temizlenebilir.\n",
    "# 2-Train/test ayırma oranı değiştirilebilir.\n",
    "# 3-Epoch sayısı arttırılabilir.\n",
    "# 4-Nöron ve katman sayıları arttırılabilir.\n",
    "\n",
    "#Özellikle epoch sayısı, nöron sayısı ve katman sayısı abartılmadan arttırılmalıdır. Aksi halde overfittinge yol açabilir."
   ]
  },
  {
   "cell_type": "code",
   "execution_count": 75,
   "metadata": {},
   "outputs": [
    {
     "data": {
      "text/html": [
       "<div>\n",
       "<style scoped>\n",
       "    .dataframe tbody tr th:only-of-type {\n",
       "        vertical-align: middle;\n",
       "    }\n",
       "\n",
       "    .dataframe tbody tr th {\n",
       "        vertical-align: top;\n",
       "    }\n",
       "\n",
       "    .dataframe thead th {\n",
       "        text-align: right;\n",
       "    }\n",
       "</style>\n",
       "<table border=\"1\" class=\"dataframe\">\n",
       "  <thead>\n",
       "    <tr style=\"text-align: right;\">\n",
       "      <th></th>\n",
       "      <th>year</th>\n",
       "      <th>price</th>\n",
       "      <th>mileage</th>\n",
       "      <th>tax</th>\n",
       "      <th>mpg</th>\n",
       "      <th>engineSize</th>\n",
       "    </tr>\n",
       "  </thead>\n",
       "  <tbody>\n",
       "    <tr>\n",
       "      <th>count</th>\n",
       "      <td>12987.000000</td>\n",
       "      <td>12987.000000</td>\n",
       "      <td>12987.000000</td>\n",
       "      <td>12987.000000</td>\n",
       "      <td>12987.000000</td>\n",
       "      <td>12987.000000</td>\n",
       "    </tr>\n",
       "    <tr>\n",
       "      <th>mean</th>\n",
       "      <td>2017.285516</td>\n",
       "      <td>24074.855779</td>\n",
       "      <td>22133.367367</td>\n",
       "      <td>129.676215</td>\n",
       "      <td>55.438392</td>\n",
       "      <td>2.051059</td>\n",
       "    </tr>\n",
       "    <tr>\n",
       "      <th>std</th>\n",
       "      <td>2.189633</td>\n",
       "      <td>9866.601115</td>\n",
       "      <td>21197.472376</td>\n",
       "      <td>65.167429</td>\n",
       "      <td>15.025902</td>\n",
       "      <td>0.532313</td>\n",
       "    </tr>\n",
       "    <tr>\n",
       "      <th>min</th>\n",
       "      <td>1997.000000</td>\n",
       "      <td>650.000000</td>\n",
       "      <td>1.000000</td>\n",
       "      <td>0.000000</td>\n",
       "      <td>1.100000</td>\n",
       "      <td>0.000000</td>\n",
       "    </tr>\n",
       "    <tr>\n",
       "      <th>25%</th>\n",
       "      <td>2016.000000</td>\n",
       "      <td>17355.000000</td>\n",
       "      <td>6320.000000</td>\n",
       "      <td>125.000000</td>\n",
       "      <td>45.600000</td>\n",
       "      <td>1.700000</td>\n",
       "    </tr>\n",
       "    <tr>\n",
       "      <th>50%</th>\n",
       "      <td>2018.000000</td>\n",
       "      <td>22299.000000</td>\n",
       "      <td>15371.000000</td>\n",
       "      <td>145.000000</td>\n",
       "      <td>56.500000</td>\n",
       "      <td>2.000000</td>\n",
       "    </tr>\n",
       "    <tr>\n",
       "      <th>75%</th>\n",
       "      <td>2019.000000</td>\n",
       "      <td>28706.000000</td>\n",
       "      <td>31986.500000</td>\n",
       "      <td>145.000000</td>\n",
       "      <td>64.200000</td>\n",
       "      <td>2.100000</td>\n",
       "    </tr>\n",
       "    <tr>\n",
       "      <th>max</th>\n",
       "      <td>2020.000000</td>\n",
       "      <td>65990.000000</td>\n",
       "      <td>259000.000000</td>\n",
       "      <td>580.000000</td>\n",
       "      <td>217.300000</td>\n",
       "      <td>6.200000</td>\n",
       "    </tr>\n",
       "  </tbody>\n",
       "</table>\n",
       "</div>"
      ],
      "text/plain": [
       "               year         price        mileage           tax           mpg  \\\n",
       "count  12987.000000  12987.000000   12987.000000  12987.000000  12987.000000   \n",
       "mean    2017.285516  24074.855779   22133.367367    129.676215     55.438392   \n",
       "std        2.189633   9866.601115   21197.472376     65.167429     15.025902   \n",
       "min     1997.000000    650.000000       1.000000      0.000000      1.100000   \n",
       "25%     2016.000000  17355.000000    6320.000000    125.000000     45.600000   \n",
       "50%     2018.000000  22299.000000   15371.000000    145.000000     56.500000   \n",
       "75%     2019.000000  28706.000000   31986.500000    145.000000     64.200000   \n",
       "max     2020.000000  65990.000000  259000.000000    580.000000    217.300000   \n",
       "\n",
       "         engineSize  \n",
       "count  12987.000000  \n",
       "mean       2.051059  \n",
       "std        0.532313  \n",
       "min        0.000000  \n",
       "25%        1.700000  \n",
       "50%        2.000000  \n",
       "75%        2.100000  \n",
       "max        6.200000  "
      ]
     },
     "execution_count": 75,
     "metadata": {},
     "output_type": "execute_result"
    }
   ],
   "source": [
    "dataFrame.describe()"
   ]
  },
  {
   "cell_type": "code",
   "execution_count": 76,
   "metadata": {},
   "outputs": [
    {
     "data": {
      "text/plain": [
       "[<matplotlib.lines.Line2D at 0x1a322529408>]"
      ]
     },
     "execution_count": 76,
     "metadata": {},
     "output_type": "execute_result"
    },
    {
     "data": {
      "image/png": "[encoded data removed]",
      "text/plain": [
       "<Figure size 432x288 with 1 Axes>"
      ]
     },
     "metadata": {
      "needs_background": "light"
     },
     "output_type": "display_data"
    }
   ],
   "source": [
    "plt.scatter(y_test, tahminDizisi)\n",
    "plt.plot(y_test, y_test, \"g-*\")\n",
    "\n",
    "#Yeşil olan grafik gerçek değerler iken mavi noktalar tahmin değerleridir.\n",
    "#Bura grafikte tahmin değerlerinin(mavi noktalar) gerçek değerlerden(yeşil çizgi) ne kadar sapıldığını göstermektedir.\n",
    "\n",
    "#Fakat normalde regresyonda yeşil çizginin model(tahminler), mavi noktaların gerçek değerler olması gerekir.\n",
    "#Yani normalde regresyonda tam tersidir. Bu KARIŞTIRILMAMALIDIR!!! Fakat sonuç olarak pek fark yoktur."
   ]
  },
  {
   "cell_type": "code",
   "execution_count": 77,
   "metadata": {},
   "outputs": [],
   "source": [
    "#Adım 9:\n",
    "\n",
    "#Modelin iyi çalıştığına kanaat getirildiğinde farklı özellikler verilip model test edilebilir.\n",
    "\n",
    "#Fakat burada kendi verimizden bir satır test edilecektir."
   ]
  },
  {
   "cell_type": "code",
   "execution_count": 78,
   "metadata": {},
   "outputs": [
    {
     "data": {
      "text/plain": [
       "year           2020.0\n",
       "price         65980.0\n",
       "mileage        3999.0\n",
       "tax             145.0\n",
       "mpg              28.0\n",
       "engineSize        4.0\n",
       "Name: 3191, dtype: float64"
      ]
     },
     "execution_count": 78,
     "metadata": {},
     "output_type": "execute_result"
    }
   ],
   "source": [
    "dataFrame.iloc[2]"
   ]
  },
  {
   "cell_type": "code",
   "execution_count": 79,
   "metadata": {},
   "outputs": [],
   "source": [
    "#Bu satırdaki fiyat tahmin edilmeye çalışılsın."
   ]
  },
  {
   "cell_type": "code",
   "execution_count": 92,
   "metadata": {},
   "outputs": [],
   "source": [
    "yeniArabaSeries = dataFrame.drop(\"price\", axis = 1).iloc[2]\n",
    "#2.satırdaki fiyat çıkartılıp onun özellikleri değişkene atandı."
   ]
  },
  {
   "cell_type": "code",
   "execution_count": 93,
   "metadata": {},
   "outputs": [
    {
     "data": {
      "text/plain": [
       "year          2020.0\n",
       "mileage       3999.0\n",
       "tax            145.0\n",
       "mpg             28.0\n",
       "engineSize       4.0\n",
       "Name: 3191, dtype: float64"
      ]
     },
     "execution_count": 93,
     "metadata": {},
     "output_type": "execute_result"
    }
   ],
   "source": [
    "yeniArabaSeries"
   ]
  },
  {
   "cell_type": "code",
   "execution_count": 94,
   "metadata": {},
   "outputs": [],
   "source": [
    "yeniArabaSeries = scaler.transform(yeniArabaSeries.values.reshape(-1,5))\n",
    "\n",
    "#Değişkenimizin boyutları da girilmelidir. Çünkü değişkenimiz 2 boyutludur. (satır-özellik olduğu için)\n",
    "#Eğer yalnız \"yeniArabaSeries = scaler.transform(yeniArabaSeries.values)\" yazılırsa hata verecektir.\n",
    "#O yüzden boyutları girilerek işlem yapılmalıdır.\n",
    "\n",
    "#yeniArabaSeries = scaler.transform(yeniArabaSeries.values.reshape(1,5)) --> bu da aynı işlemi yapmaktadır."
   ]
  },
  {
   "cell_type": "code",
   "execution_count": 95,
   "metadata": {},
   "outputs": [
    {
     "data": {
      "text/plain": [
       "array([[1.        , 0.01543635, 0.25      , 0.12442183, 0.64516129]])"
      ]
     },
     "execution_count": 95,
     "metadata": {},
     "output_type": "execute_result"
    }
   ],
   "source": [
    "yeniArabaSeries"
   ]
  },
  {
   "cell_type": "code",
   "execution_count": 101,
   "metadata": {},
   "outputs": [
    {
     "data": {
      "text/plain": [
       "array([[62147.312]], dtype=float32)"
      ]
     },
     "execution_count": 101,
     "metadata": {},
     "output_type": "execute_result"
    }
   ],
   "source": [
    "model.predict(yeniArabaSeries)"
   ]
  },
  {
   "cell_type": "code",
   "execution_count": 97,
   "metadata": {},
   "outputs": [],
   "source": [
    "#Görüldüğü üzere modele bu özellikler verildiğinde ortalama olarak bu fiyat olabilir sonucunu verdi."
   ]
  },
  {
   "cell_type": "code",
   "execution_count": null,
   "metadata": {},
   "outputs": [],
   "source": [
    "#Modeli eğitme aşamaları bu şekildedir. Genel olarak bu adımlar yapıldığında model eğitilmiş olur."
   ]
  }
 ],
 "metadata": {
  "kernelspec": {
   "display_name": "Python 3",
   "language": "python",
   "name": "python3"
  },
  "language_info": {
   "codemirror_mode": {
    "name": "ipython",
    "version": 3
   },
   "file_extension": ".py",
   "mimetype": "text/x-python",
   "name": "python",
   "nbconvert_exporter": "python",
   "pygments_lexer": "ipython3",
   "version": "3.8.3"
  }
 },
 "nbformat": 4,
 "nbformat_minor": 4
}
